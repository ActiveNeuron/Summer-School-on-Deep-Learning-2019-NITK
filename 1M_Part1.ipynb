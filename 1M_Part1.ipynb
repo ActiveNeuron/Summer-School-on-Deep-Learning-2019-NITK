{
  "nbformat": 4,
  "nbformat_minor": 0,
  "metadata": {
    "colab": {
      "name": "1_Part1.ipynb",
      "provenance": [],
      "collapsed_sections": []
    },
    "kernelspec": {
      "name": "python3",
      "display_name": "Python 3"
    },
    "accelerator": "GPU"
  },
  "cells": [
    {
      "cell_type": "markdown",
      "metadata": {
        "id": "gL9XXTnU0T6r"
      },
      "source": [
        "# **Welcome to Google Colaboratory**\n",
        "\n",
        "1.   Hardware and Memory details\n",
        "2.   Exploring Markdown\n",
        "3.   Colab and Google Drive\n",
        "4.   Installing Packages in Google Drive"
      ]
    },
    {
      "cell_type": "code",
      "metadata": {
        "colab": {
          "base_uri": "https://localhost:8080/"
        },
        "id": "R6XAd_5GT1Oq",
        "outputId": "06188898-c130-4cc2-a79c-5c7913961c87"
      },
      "source": [
        "#Hardwaree Info\n",
        "!cat /proc/cpuinfo"
      ],
      "execution_count": 6,
      "outputs": [
        {
          "output_type": "stream",
          "name": "stdout",
          "text": [
            "processor\t: 0\n",
            "vendor_id\t: GenuineIntel\n",
            "cpu family\t: 6\n",
            "model\t\t: 63\n",
            "model name\t: Intel(R) Xeon(R) CPU @ 2.30GHz\n",
            "stepping\t: 0\n",
            "microcode\t: 0x1\n",
            "cpu MHz\t\t: 2299.998\n",
            "cache size\t: 46080 KB\n",
            "physical id\t: 0\n",
            "siblings\t: 2\n",
            "core id\t\t: 0\n",
            "cpu cores\t: 1\n",
            "apicid\t\t: 0\n",
            "initial apicid\t: 0\n",
            "fpu\t\t: yes\n",
            "fpu_exception\t: yes\n",
            "cpuid level\t: 13\n",
            "wp\t\t: yes\n",
            "flags\t\t: fpu vme de pse tsc msr pae mce cx8 apic sep mtrr pge mca cmov pat pse36 clflush mmx fxsr sse sse2 ss ht syscall nx pdpe1gb rdtscp lm constant_tsc rep_good nopl xtopology nonstop_tsc cpuid tsc_known_freq pni pclmulqdq ssse3 fma cx16 pcid sse4_1 sse4_2 x2apic movbe popcnt aes xsave avx f16c rdrand hypervisor lahf_lm abm invpcid_single ssbd ibrs ibpb stibp fsgsbase tsc_adjust bmi1 avx2 smep bmi2 erms invpcid xsaveopt arat md_clear arch_capabilities\n",
            "bugs\t\t: cpu_meltdown spectre_v1 spectre_v2 spec_store_bypass l1tf mds swapgs\n",
            "bogomips\t: 4599.99\n",
            "clflush size\t: 64\n",
            "cache_alignment\t: 64\n",
            "address sizes\t: 46 bits physical, 48 bits virtual\n",
            "power management:\n",
            "\n",
            "processor\t: 1\n",
            "vendor_id\t: GenuineIntel\n",
            "cpu family\t: 6\n",
            "model\t\t: 63\n",
            "model name\t: Intel(R) Xeon(R) CPU @ 2.30GHz\n",
            "stepping\t: 0\n",
            "microcode\t: 0x1\n",
            "cpu MHz\t\t: 2299.998\n",
            "cache size\t: 46080 KB\n",
            "physical id\t: 0\n",
            "siblings\t: 2\n",
            "core id\t\t: 0\n",
            "cpu cores\t: 1\n",
            "apicid\t\t: 1\n",
            "initial apicid\t: 1\n",
            "fpu\t\t: yes\n",
            "fpu_exception\t: yes\n",
            "cpuid level\t: 13\n",
            "wp\t\t: yes\n",
            "flags\t\t: fpu vme de pse tsc msr pae mce cx8 apic sep mtrr pge mca cmov pat pse36 clflush mmx fxsr sse sse2 ss ht syscall nx pdpe1gb rdtscp lm constant_tsc rep_good nopl xtopology nonstop_tsc cpuid tsc_known_freq pni pclmulqdq ssse3 fma cx16 pcid sse4_1 sse4_2 x2apic movbe popcnt aes xsave avx f16c rdrand hypervisor lahf_lm abm invpcid_single ssbd ibrs ibpb stibp fsgsbase tsc_adjust bmi1 avx2 smep bmi2 erms invpcid xsaveopt arat md_clear arch_capabilities\n",
            "bugs\t\t: cpu_meltdown spectre_v1 spectre_v2 spec_store_bypass l1tf mds swapgs\n",
            "bogomips\t: 4599.99\n",
            "clflush size\t: 64\n",
            "cache_alignment\t: 64\n",
            "address sizes\t: 46 bits physical, 48 bits virtual\n",
            "power management:\n",
            "\n"
          ]
        }
      ]
    },
    {
      "cell_type": "code",
      "metadata": {
        "id": "Gw9JHzo7DMaP",
        "colab": {
          "base_uri": "https://localhost:8080/"
        },
        "outputId": "8de26229-04b3-4963-f81a-d2b7bdfd193a"
      },
      "source": [
        "#Memory Info\n",
        "!cat /proc/meminfo"
      ],
      "execution_count": 5,
      "outputs": [
        {
          "output_type": "stream",
          "name": "stdout",
          "text": [
            "MemTotal:       13302924 kB\n",
            "MemFree:        10387200 kB\n",
            "MemAvailable:   12465124 kB\n",
            "Buffers:          132780 kB\n",
            "Cached:          2080972 kB\n",
            "SwapCached:            0 kB\n",
            "Active:          1032592 kB\n",
            "Inactive:        1592376 kB\n",
            "Active(anon):     376516 kB\n",
            "Inactive(anon):      448 kB\n",
            "Active(file):     656076 kB\n",
            "Inactive(file):  1591928 kB\n",
            "Unevictable:           0 kB\n",
            "Mlocked:               0 kB\n",
            "SwapTotal:             0 kB\n",
            "SwapFree:              0 kB\n",
            "Dirty:               680 kB\n",
            "Writeback:             0 kB\n",
            "AnonPages:        411092 kB\n",
            "Mapped:           238580 kB\n",
            "Shmem:              1192 kB\n",
            "KReclaimable:     142788 kB\n",
            "Slab:             191600 kB\n",
            "SReclaimable:     142788 kB\n",
            "SUnreclaim:        48812 kB\n",
            "KernelStack:        4956 kB\n",
            "PageTables:         5420 kB\n",
            "NFS_Unstable:          0 kB\n",
            "Bounce:                0 kB\n",
            "WritebackTmp:          0 kB\n",
            "CommitLimit:     6651460 kB\n",
            "Committed_AS:    3010384 kB\n",
            "VmallocTotal:   34359738367 kB\n",
            "VmallocUsed:       44948 kB\n",
            "VmallocChunk:          0 kB\n",
            "Percpu:             1400 kB\n",
            "AnonHugePages:      2048 kB\n",
            "ShmemHugePages:        0 kB\n",
            "ShmemPmdMapped:        0 kB\n",
            "FileHugePages:         0 kB\n",
            "FilePmdMapped:         0 kB\n",
            "CmaTotal:              0 kB\n",
            "CmaFree:               0 kB\n",
            "HugePages_Total:       0\n",
            "HugePages_Free:        0\n",
            "HugePages_Rsvd:        0\n",
            "HugePages_Surp:        0\n",
            "Hugepagesize:       2048 kB\n",
            "Hugetlb:               0 kB\n",
            "DirectMap4k:      133952 kB\n",
            "DirectMap2M:     5105664 kB\n",
            "DirectMap1G:    10485760 kB\n"
          ]
        }
      ]
    },
    {
      "cell_type": "markdown",
      "metadata": {
        "id": "BlKi1DtMQAwu"
      },
      "source": [
        "#### **Exploring Markdown**\n",
        "\n",
        "\n"
      ]
    },
    {
      "cell_type": "markdown",
      "metadata": {
        "id": "4_77lXZRVciY"
      },
      "source": [
        "#####**Indentation**\n"
      ]
    },
    {
      "cell_type": "markdown",
      "metadata": {
        "id": "wOz7eaFZVfkP"
      },
      "source": [
        "#####**Listing**\n"
      ]
    },
    {
      "cell_type": "markdown",
      "metadata": {
        "id": "Q6FlikwvViCm"
      },
      "source": [
        "#####**Equation**\n"
      ]
    },
    {
      "cell_type": "markdown",
      "metadata": {
        "id": "iWSKQBpOp4Vp"
      },
      "source": [
        "#####**Table**"
      ]
    },
    {
      "cell_type": "markdown",
      "metadata": {
        "id": "Tz5UPZAJ0rRr"
      },
      "source": [
        "#### **Importing and Installing Libraries/Packages**"
      ]
    },
    {
      "cell_type": "code",
      "metadata": {
        "id": "UrWjZnEybpBh",
        "colab": {
          "base_uri": "https://localhost:8080/"
        },
        "outputId": "5882899c-46ef-41be-d588-e819544e5599"
      },
      "source": [
        "import math\n",
        "c = math.factorial(5)\n",
        "c\n"
      ],
      "execution_count": 8,
      "outputs": [
        {
          "output_type": "execute_result",
          "data": {
            "text/plain": [
              "120"
            ]
          },
          "metadata": {},
          "execution_count": 8
        }
      ]
    },
    {
      "cell_type": "code",
      "metadata": {
        "colab": {
          "base_uri": "https://localhost:8080/"
        },
        "id": "SljHWOl4XKe9",
        "outputId": "680d68b5-aa7e-4168-c05d-53620594c1eb"
      },
      "source": [
        "from math import factorial\n",
        "b = factorial(5)\n",
        "b\n"
      ],
      "execution_count": 9,
      "outputs": [
        {
          "output_type": "execute_result",
          "data": {
            "text/plain": [
              "120"
            ]
          },
          "metadata": {},
          "execution_count": 9
        }
      ]
    },
    {
      "cell_type": "code",
      "metadata": {
        "id": "mhulJCQL085i",
        "colab": {
          "base_uri": "https://localhost:8080/"
        },
        "outputId": "aa0368f3-81e4-4a95-f8f3-7629fe40e3e0"
      },
      "source": [
        "import tensorflow\n",
        "import keras\n",
        "print(tensorflow.__version__)\n",
        "print(keras.__version__)\n"
      ],
      "execution_count": 10,
      "outputs": [
        {
          "output_type": "stream",
          "name": "stdout",
          "text": [
            "2.6.0\n",
            "2.6.0\n"
          ]
        }
      ]
    },
    {
      "cell_type": "code",
      "metadata": {
        "id": "R-ZePxNK1FXv",
        "colab": {
          "base_uri": "https://localhost:8080/",
          "height": 316
        },
        "outputId": "100b9f2c-e4eb-4254-8ce7-d78db4ce183c"
      },
      "source": [
        "import medpy"
      ],
      "execution_count": 11,
      "outputs": [
        {
          "output_type": "error",
          "ename": "ModuleNotFoundError",
          "evalue": "ignored",
          "traceback": [
            "\u001b[0;31m---------------------------------------------------------------------------\u001b[0m",
            "\u001b[0;31mModuleNotFoundError\u001b[0m                       Traceback (most recent call last)",
            "\u001b[0;32m<ipython-input-11-26b47bc79016>\u001b[0m in \u001b[0;36m<module>\u001b[0;34m()\u001b[0m\n\u001b[0;32m----> 1\u001b[0;31m \u001b[0;32mimport\u001b[0m \u001b[0mmedpy\u001b[0m\u001b[0;34m\u001b[0m\u001b[0;34m\u001b[0m\u001b[0m\n\u001b[0m",
            "\u001b[0;31mModuleNotFoundError\u001b[0m: No module named 'medpy'",
            "",
            "\u001b[0;31m---------------------------------------------------------------------------\u001b[0;32m\nNOTE: If your import is failing due to a missing package, you can\nmanually install dependencies using either !pip or !apt.\n\nTo view examples of installing some common dependencies, click the\n\"Open Examples\" button below.\n\u001b[0;31m---------------------------------------------------------------------------\u001b[0m\n"
          ],
          "errorDetails": {
            "actions": [
              {
                "action": "open_url",
                "actionText": "Open Examples",
                "url": "/notebooks/snippets/importing_libraries.ipynb"
              }
            ]
          }
        }
      ]
    },
    {
      "cell_type": "code",
      "metadata": {
        "id": "GZFgIEic1Fbo",
        "colab": {
          "base_uri": "https://localhost:8080/"
        },
        "outputId": "db105f6d-4100-45fe-d06d-a236ca6360ff"
      },
      "source": [
        "!pip install medpy"
      ],
      "execution_count": 12,
      "outputs": [
        {
          "output_type": "stream",
          "name": "stdout",
          "text": [
            "Collecting medpy\n",
            "  Downloading MedPy-0.4.0.tar.gz (151 kB)\n",
            "\u001b[?25l\r\u001b[K     |██▏                             | 10 kB 23.1 MB/s eta 0:00:01\r\u001b[K     |████▎                           | 20 kB 24.8 MB/s eta 0:00:01\r\u001b[K     |██████▌                         | 30 kB 12.6 MB/s eta 0:00:01\r\u001b[K     |████████▋                       | 40 kB 9.6 MB/s eta 0:00:01\r\u001b[K     |██████████▉                     | 51 kB 5.2 MB/s eta 0:00:01\r\u001b[K     |█████████████                   | 61 kB 5.6 MB/s eta 0:00:01\r\u001b[K     |███████████████                 | 71 kB 6.1 MB/s eta 0:00:01\r\u001b[K     |█████████████████▎              | 81 kB 6.7 MB/s eta 0:00:01\r\u001b[K     |███████████████████▍            | 92 kB 6.5 MB/s eta 0:00:01\r\u001b[K     |█████████████████████▋          | 102 kB 5.4 MB/s eta 0:00:01\r\u001b[K     |███████████████████████▊        | 112 kB 5.4 MB/s eta 0:00:01\r\u001b[K     |██████████████████████████      | 122 kB 5.4 MB/s eta 0:00:01\r\u001b[K     |████████████████████████████    | 133 kB 5.4 MB/s eta 0:00:01\r\u001b[K     |██████████████████████████████▏ | 143 kB 5.4 MB/s eta 0:00:01\r\u001b[K     |████████████████████████████████| 151 kB 5.4 MB/s \n",
            "\u001b[?25hRequirement already satisfied: scipy>=1.1.0 in /usr/local/lib/python3.7/dist-packages (from medpy) (1.4.1)\n",
            "Requirement already satisfied: numpy>=1.11.0 in /usr/local/lib/python3.7/dist-packages (from medpy) (1.19.5)\n",
            "Collecting SimpleITK>=1.1.0\n",
            "  Downloading SimpleITK-2.1.1-cp37-cp37m-manylinux_2_12_x86_64.manylinux2010_x86_64.whl (48.4 MB)\n",
            "\u001b[K     |████████████████████████████████| 48.4 MB 4.9 kB/s \n",
            "\u001b[?25hBuilding wheels for collected packages: medpy\n",
            "  Building wheel for medpy (setup.py) ... \u001b[?25l\u001b[?25hdone\n",
            "  Created wheel for medpy: filename=MedPy-0.4.0-cp37-cp37m-linux_x86_64.whl size=754472 sha256=8da57c71d3561c7648541f4f7060242c4f2e478e1da040da52d4a53738fc4c42\n",
            "  Stored in directory: /root/.cache/pip/wheels/b0/57/3a/da1183f22a6afb42e11138daa6a759de233fd977a984333602\n",
            "Successfully built medpy\n",
            "Installing collected packages: SimpleITK, medpy\n",
            "Successfully installed SimpleITK-2.1.1 medpy-0.4.0\n"
          ]
        }
      ]
    },
    {
      "cell_type": "code",
      "metadata": {
        "id": "j1gMY6JE1NXl"
      },
      "source": [
        "import medpy"
      ],
      "execution_count": null,
      "outputs": []
    },
    {
      "cell_type": "markdown",
      "metadata": {
        "id": "kBbQadcZ1W5D"
      },
      "source": [
        "#### **Mouting Colab**\n",
        "* Setting up the runtime"
      ]
    },
    {
      "cell_type": "code",
      "metadata": {
        "id": "BwA8HcxUcdZV",
        "colab": {
          "base_uri": "https://localhost:8080/"
        },
        "outputId": "ac895931-df97-4d96-89c3-b92f35cfeff3"
      },
      "source": [
        "from google.colab import drive\n",
        "drive.mount('/content/drive')"
      ],
      "execution_count": 13,
      "outputs": [
        {
          "output_type": "stream",
          "name": "stdout",
          "text": [
            "Mounted at /content/drive\n"
          ]
        }
      ]
    },
    {
      "cell_type": "code",
      "metadata": {
        "colab": {
          "base_uri": "https://localhost:8080/"
        },
        "id": "XNTGutU-YcGp",
        "outputId": "8520b703-9c72-45db-958a-c6c9a44abf0f"
      },
      "source": [
        "import os\n",
        "os.chdir('/content/drive/My Drive/2021/DL_2021/Codes/data')\n",
        "os.listdir('/content/drive/My Drive/2021/DL_2021/Codes/data')"
      ],
      "execution_count": 15,
      "outputs": [
        {
          "output_type": "execute_result",
          "data": {
            "text/plain": [
              "['sample.PNG',\n",
              " '2.png',\n",
              " '1.png',\n",
              " '3.png',\n",
              " '4.png',\n",
              " '5.png',\n",
              " 'own_data_cnn_implementation_keras']"
            ]
          },
          "metadata": {},
          "execution_count": 15
        }
      ]
    },
    {
      "cell_type": "markdown",
      "metadata": {
        "id": "FUsPnX6IZByp"
      },
      "source": [
        "####**Cloning the data from Github**"
      ]
    },
    {
      "cell_type": "code",
      "metadata": {
        "id": "4lPy8EaRXDhf",
        "colab": {
          "base_uri": "https://localhost:8080/"
        },
        "outputId": "bfe6bda4-7f71-4e38-a9aa-6deae08f6f3d"
      },
      "source": [
        "!git clone https://github.com/anujshah1003/own_data_cnn_implementation_keras.git"
      ],
      "execution_count": null,
      "outputs": [
        {
          "output_type": "stream",
          "text": [
            "Cloning into 'own_data_cnn_implementation_keras'...\n",
            "remote: Enumerating objects: 57, done.\u001b[K\n",
            "remote: Counting objects: 100% (6/6), done.\u001b[K\n",
            "remote: Compressing objects: 100% (6/6), done.\u001b[K\n",
            "remote: Total 57 (delta 2), reused 0 (delta 0), pack-reused 51\u001b[K\n",
            "Unpacking objects: 100% (57/57), done.\n"
          ],
          "name": "stdout"
        }
      ]
    },
    {
      "cell_type": "code",
      "metadata": {
        "colab": {
          "base_uri": "https://localhost:8080/"
        },
        "id": "doSsfv0_3bz1",
        "outputId": "0ccab031-c1a1-47af-f63a-6677f9a6dc1c"
      },
      "source": [
        "help(print)"
      ],
      "execution_count": 17,
      "outputs": [
        {
          "output_type": "stream",
          "name": "stdout",
          "text": [
            "Help on built-in function print in module builtins:\n",
            "\n",
            "print(...)\n",
            "    print(value, ..., sep=' ', end='\\n', file=sys.stdout, flush=False)\n",
            "    \n",
            "    Prints the values to a stream, or to sys.stdout by default.\n",
            "    Optional keyword arguments:\n",
            "    file:  a file-like object (stream); defaults to the current sys.stdout.\n",
            "    sep:   string inserted between values, default a space.\n",
            "    end:   string appended after the last value, default a newline.\n",
            "    flush: whether to forcibly flush the stream.\n",
            "\n"
          ]
        }
      ]
    }
  ]
}