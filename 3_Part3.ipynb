{
  "nbformat": 4,
  "nbformat_minor": 0,
  "metadata": {
    "colab": {
      "name": "3_Part3.ipynb",
      "provenance": [],
      "collapsed_sections": []
    },
    "kernelspec": {
      "name": "python3",
      "display_name": "Python 3"
    },
    "language_info": {
      "name": "python"
    }
  },
  "cells": [
    {
      "cell_type": "markdown",
      "metadata": {
        "id": "lt80zqowMr0Q"
      },
      "source": [
        "# Loops\n",
        "* for\n",
        "* if\n",
        "* While"
      ]
    },
    {
      "cell_type": "code",
      "metadata": {
        "colab": {
          "base_uri": "https://localhost:8080/"
        },
        "id": "4GM1lzw4NiW0",
        "outputId": "2ad93b50-04cc-48ab-c063-811ad24bfde8"
      },
      "source": [
        "a = range(0,5)\n",
        "for i in a:\n",
        "    print(i)"
      ],
      "execution_count": null,
      "outputs": [
        {
          "output_type": "stream",
          "text": [
            "0\n",
            "1\n",
            "2\n",
            "3\n",
            "4\n"
          ],
          "name": "stdout"
        }
      ]
    },
    {
      "cell_type": "code",
      "metadata": {
        "colab": {
          "base_uri": "https://localhost:8080/"
        },
        "id": "iEqPaQ8iNRyV",
        "outputId": "42eafb58-b932-4a10-9816-e9afde795aad"
      },
      "source": [
        "'''\n",
        "Print the below output using for loop\n",
        "0 0\n",
        "1 1\n",
        "2 4\n",
        "3 9\n",
        "4 16 \n",
        "'''\n",
        "for i in range(5):\n",
        "    print(i,i*i)"
      ],
      "execution_count": null,
      "outputs": [
        {
          "output_type": "stream",
          "text": [
            "0 0\n",
            "1 1\n",
            "2 4\n",
            "3 9\n",
            "4 16\n"
          ],
          "name": "stdout"
        }
      ]
    },
    {
      "cell_type": "code",
      "metadata": {
        "colab": {
          "base_uri": "https://localhost:8080/"
        },
        "id": "VoblTGyqOm5G",
        "outputId": "4ca88f34-dbfd-4a93-b094-02d78d55e4d2"
      },
      "source": [
        "#if else\n",
        "a = 10\n",
        "b = 50\n",
        "if(a<b):\n",
        "    print(a)\n",
        "else:\n",
        "    print(b)"
      ],
      "execution_count": null,
      "outputs": [
        {
          "output_type": "stream",
          "text": [
            "10\n"
          ],
          "name": "stdout"
        }
      ]
    },
    {
      "cell_type": "code",
      "metadata": {
        "colab": {
          "base_uri": "https://localhost:8080/"
        },
        "id": "Rtm09ZCPQ4E0",
        "outputId": "6f9c95c7-e71b-48ea-d1b1-e646700d149c"
      },
      "source": [
        "#while loop\n",
        "\n",
        "i=0\n",
        "while (i<5):\n",
        "    print(i,i*i)\n",
        "    i=i+1  "
      ],
      "execution_count": null,
      "outputs": [
        {
          "output_type": "stream",
          "text": [
            "0 0\n",
            "1 1\n",
            "2 4\n",
            "3 9\n",
            "4 16\n"
          ],
          "name": "stdout"
        }
      ]
    },
    {
      "cell_type": "markdown",
      "metadata": {
        "id": "gxrF889BRCd_"
      },
      "source": [
        "### Functions"
      ]
    },
    {
      "cell_type": "code",
      "metadata": {
        "id": "tCW6iD3nawSk"
      },
      "source": [
        "def add():\n",
        "    a = int(input())\n",
        "    b = int(input())\n",
        "    c = a+b\n",
        "    return c"
      ],
      "execution_count": 10,
      "outputs": []
    },
    {
      "cell_type": "code",
      "metadata": {
        "colab": {
          "base_uri": "https://localhost:8080/"
        },
        "id": "dg2dtji5bvn3",
        "outputId": "4b56789f-9585-461b-d48d-c895205c0dd3"
      },
      "source": [
        "add()"
      ],
      "execution_count": 11,
      "outputs": [
        {
          "output_type": "stream",
          "text": [
            "4\n",
            "4\n"
          ],
          "name": "stdout"
        },
        {
          "output_type": "execute_result",
          "data": {
            "text/plain": [
              "8"
            ]
          },
          "metadata": {
            "tags": []
          },
          "execution_count": 11
        }
      ]
    },
    {
      "cell_type": "code",
      "metadata": {
        "id": "uNoMHeOLbJQ7"
      },
      "source": [
        "def add(a,b):\n",
        "    a1 = a\n",
        "    b1 = b\n",
        "    c = a1+b1\n",
        "    return c"
      ],
      "execution_count": 12,
      "outputs": []
    },
    {
      "cell_type": "code",
      "metadata": {
        "colab": {
          "base_uri": "https://localhost:8080/"
        },
        "id": "FvpPlZy4a6QB",
        "outputId": "f981f3f4-8572-41ca-88ea-eb3c4f576735"
      },
      "source": [
        "add(4,5)"
      ],
      "execution_count": 13,
      "outputs": [
        {
          "output_type": "execute_result",
          "data": {
            "text/plain": [
              "9"
            ]
          },
          "metadata": {
            "tags": []
          },
          "execution_count": 13
        }
      ]
    },
    {
      "cell_type": "code",
      "metadata": {
        "id": "_i18-NBKRH2y"
      },
      "source": [
        "'''Print the below output using functions\n",
        "0 0\n",
        "1 1\n",
        "2 4\n",
        "3 9\n",
        "4 16 \n",
        "'''\n",
        "def square (val):\n",
        "    for i in range(val):\n",
        "        print(i,i*i)\n",
        "square(5)"
      ],
      "execution_count": null,
      "outputs": []
    }
  ]
}