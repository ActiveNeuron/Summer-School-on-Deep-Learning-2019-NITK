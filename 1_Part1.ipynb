{
  "nbformat": 4,
  "nbformat_minor": 0,
  "metadata": {
    "colab": {
      "name": "1_Part1.ipynb",
      "provenance": [],
      "collapsed_sections": []
    },
    "kernelspec": {
      "name": "python3",
      "display_name": "Python 3"
    }
  },
  "cells": [
    {
      "cell_type": "markdown",
      "metadata": {
        "id": "gL9XXTnU0T6r"
      },
      "source": [
        "# **Welcome to Google Colaboratory**\n",
        "\n",
        "1.   Hardware and Memory details\n",
        "2.   Exploring Markdown\n",
        "3.   Colab and Google Drive\n",
        "4.   Installing Packages in Google Drive"
      ]
    },
    {
      "cell_type": "code",
      "metadata": {
        "id": "Gw9JHzo7DMaP"
      },
      "source": [
        "cat /proc/cpuinfo"
      ],
      "execution_count": null,
      "outputs": []
    },
    {
      "cell_type": "code",
      "metadata": {
        "id": "pSY0O6upIj2T"
      },
      "source": [
        "cat /proc/meminfo"
      ],
      "execution_count": null,
      "outputs": []
    },
    {
      "cell_type": "code",
      "metadata": {
        "id": "zyCRiMnFNv23"
      },
      "source": [
        "!nvidia-smi"
      ],
      "execution_count": null,
      "outputs": []
    },
    {
      "cell_type": "markdown",
      "metadata": {
        "id": "BlKi1DtMQAwu"
      },
      "source": [
        "#### **Exploring Markdown**\n",
        "#####**Text**\n",
        "\n"
      ]
    },
    {
      "cell_type": "markdown",
      "metadata": {
        "id": "ObyySP0oQeGC"
      },
      "source": [
        "1. **A bold text**\n",
        "2. *A bold text*\n",
        "3. _A bolt text_\n",
        "4. ~Strike~\n",
        "5. [Google](https://www.google.com/)\n",
        "6. ![An image](data:image/jpeg;base64,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)"
      ]
    },
    {
      "cell_type": "markdown",
      "metadata": {
        "id": "8-EWD_Y6VYw9"
      },
      "source": [
        "#####**Heading**"
      ]
    },
    {
      "cell_type": "markdown",
      "metadata": {
        "id": "oc-_DUvqRfdE"
      },
      "source": [
        "# Section\n",
        "## Section\n",
        "### Section\n",
        "#### Section"
      ]
    },
    {
      "cell_type": "markdown",
      "metadata": {
        "id": "4_77lXZRVciY"
      },
      "source": [
        "#####**Indentation**"
      ]
    },
    {
      "cell_type": "markdown",
      "metadata": {
        "id": "Ll_xVNR6Rs3-"
      },
      "source": [
        "Hello\n",
        ">Hello\n",
        ">> Hello\n",
        ">>>> Hello"
      ]
    },
    {
      "cell_type": "markdown",
      "metadata": {
        "id": "wOz7eaFZVfkP"
      },
      "source": [
        "#####**Listing**"
      ]
    },
    {
      "cell_type": "markdown",
      "metadata": {
        "id": "5RovdF7QSbuX"
      },
      "source": [
        " 1. A\n",
        " 2. B"
      ]
    },
    {
      "cell_type": "markdown",
      "metadata": {
        "id": "zbwMLP0YJwCF"
      },
      "source": [
        "* A\n",
        "* B"
      ]
    },
    {
      "cell_type": "markdown",
      "metadata": {
        "id": "Q6FlikwvViCm"
      },
      "source": [
        "#####**Equation**"
      ]
    },
    {
      "cell_type": "markdown",
      "metadata": {
        "id": "105SE61yS5Ow"
      },
      "source": [
        "$y=x^2$\n",
        " \n",
        "$e^{i\\pi} + 1 = 0$\n",
        " \n",
        "$e^x=\\sum_{i=0}^\\infty \\frac{1}{i!}x^i$\n",
        " \n",
        "$\\frac{n!}{k!(n-k)!} = {n \\choose k}$\n",
        " \n",
        "$A_{m,n} =\n",
        " \\begin{pmatrix}\n",
        "  a_{1,1} & a_{1,2} & \\cdots & a_{1,n} \\\\\n",
        "  a_{2,1} & a_{2,2} & \\cdots & a_{2,n} \\\\\n",
        "  \\vdots  & \\vdots  & \\ddots & \\vdots  \\\\\n",
        "  a_{m,1} & a_{m,2} & \\cdots & a_{m,n}\n",
        " \\end{pmatrix}$"
      ]
    },
    {
      "cell_type": "markdown",
      "metadata": {
        "id": "-s9oHzuDVmkv"
      },
      "source": [
        "#####**Table**"
      ]
    },
    {
      "cell_type": "markdown",
      "metadata": {
        "id": "Ca3hNR2OVCRV"
      },
      "source": [
        "First column name  | Second column name | Second column name\n",
        "-------------------|------------------  | ----------------\n",
        "Row 1, Col 1       | Row 1, Col 2       | Row 1, Col 3 \n",
        "Row 2, Col 1       | Row 2, Col 2       | Row 2, Col 3"
      ]
    },
    {
      "cell_type": "markdown",
      "metadata": {
        "id": "Tz5UPZAJ0rRr"
      },
      "source": [
        "#### **Importing and Installing Libraries/Packages**"
      ]
    },
    {
      "cell_type": "code",
      "metadata": {
        "id": "UrWjZnEybpBh"
      },
      "source": [
        "import math"
      ],
      "execution_count": null,
      "outputs": []
    },
    {
      "cell_type": "code",
      "metadata": {
        "colab": {
          "base_uri": "https://localhost:8080/"
        },
        "id": "mhulJCQL085i",
        "outputId": "721bbaef-0555-4c90-c420-00e9489d54f0"
      },
      "source": [
        "import math\n",
        "c=math.factorial(6)\n",
        "print(c)"
      ],
      "execution_count": null,
      "outputs": [
        {
          "output_type": "stream",
          "text": [
            "720\n"
          ],
          "name": "stdout"
        }
      ]
    },
    {
      "cell_type": "code",
      "metadata": {
        "id": "R-ZePxNK1FXv",
        "colab": {
          "base_uri": "https://localhost:8080/"
        },
        "outputId": "b2fd5cb0-ecfa-40a9-9b47-369a21c23743"
      },
      "source": [
        "from math import factorial \n",
        "b=factorial(6)\n",
        "b"
      ],
      "execution_count": null,
      "outputs": [
        {
          "output_type": "execute_result",
          "data": {
            "text/plain": [
              "720"
            ]
          },
          "metadata": {
            "tags": []
          },
          "execution_count": 6
        }
      ]
    },
    {
      "cell_type": "code",
      "metadata": {
        "id": "GZFgIEic1Fbo"
      },
      "source": [
        "import numpy as np\n",
        "import tensorflow as tf\n",
        "import keras\n",
        "import matplotlib.pyplot as plt"
      ],
      "execution_count": null,
      "outputs": []
    },
    {
      "cell_type": "code",
      "metadata": {
        "id": "j1gMY6JE1NXl"
      },
      "source": [
        "!pip install medpy"
      ],
      "execution_count": null,
      "outputs": []
    },
    {
      "cell_type": "code",
      "metadata": {
        "id": "BwA8HcxUcdZV"
      },
      "source": [
        "import medpy"
      ],
      "execution_count": null,
      "outputs": []
    },
    {
      "cell_type": "markdown",
      "metadata": {
        "id": "kBbQadcZ1W5D"
      },
      "source": [
        "#### **Mouting Colab**\n",
        "* Setting up the runtime"
      ]
    },
    {
      "cell_type": "code",
      "metadata": {
        "id": "mX9uemkj1faF"
      },
      "source": [
        "from google.colab import drive\n",
        "drive.mount('/content/drive')"
      ],
      "execution_count": null,
      "outputs": []
    },
    {
      "cell_type": "code",
      "metadata": {
        "id": "lq_dJVjC1syw"
      },
      "source": [
        "import os\n",
        "os.chdir('/content/drive/My Drive/2021/WorkShop_2021')"
      ],
      "execution_count": null,
      "outputs": []
    },
    {
      "cell_type": "code",
      "metadata": {
        "id": "lOi-pusbSXjk"
      },
      "source": [
        "os.listdir('/content/drive/My Drive/2021/WorkShop_2021/Codes/data/')"
      ],
      "execution_count": null,
      "outputs": []
    },
    {
      "cell_type": "code",
      "metadata": {
        "id": "-_OhAZq1S4Mb"
      },
      "source": [
        "from IPython.display import Image, display\n",
        "display(Image(filename=\"/content/drive/My Drive/2021/WorkShop_2021/Codes/data/sample.PNG\"))"
      ],
      "execution_count": null,
      "outputs": []
    },
    {
      "cell_type": "code",
      "metadata": {
        "id": "BDJF6KaA1-UY"
      },
      "source": [
        "import tensorflow as tf\n",
        "if tf.test.gpu_device_name():\n",
        "    print('Default GPU Device: {}'.format(tf.test.gpu_device_name()))\n",
        "else:\n",
        "    print(\"Please install GPU version of TF\")"
      ],
      "execution_count": null,
      "outputs": []
    },
    {
      "cell_type": "code",
      "metadata": {
        "id": "cjOBNvN6LUnW"
      },
      "source": [
        ""
      ],
      "execution_count": null,
      "outputs": []
    },
    {
      "cell_type": "code",
      "metadata": {
        "id": "dohpxWx0LZWR"
      },
      "source": [
        ""
      ],
      "execution_count": null,
      "outputs": []
    },
    {
      "cell_type": "markdown",
      "metadata": {
        "id": "FUsPnX6IZByp"
      },
      "source": [
        "####**Cloning the data from Github**"
      ]
    },
    {
      "cell_type": "code",
      "metadata": {
        "id": "4lPy8EaRXDhf",
        "colab": {
          "base_uri": "https://localhost:8080/"
        },
        "outputId": "b5895f82-4767-4ef6-b682-39683fcee3fe"
      },
      "source": [
        "#"
      ],
      "execution_count": 5,
      "outputs": [
        {
          "output_type": "stream",
          "text": [
            "Cloning into 'own_data_cnn_implementation_keras'...\n",
            "remote: Enumerating objects: 57, done.\u001b[K\n",
            "remote: Counting objects: 100% (6/6), done.\u001b[K\n",
            "remote: Compressing objects: 100% (6/6), done.\u001b[K\n",
            "remote: Total 57 (delta 2), reused 0 (delta 0), pack-reused 51\u001b[K\n",
            "Unpacking objects: 100% (57/57), done.\n"
          ],
          "name": "stdout"
        }
      ]
    }
  ]
}