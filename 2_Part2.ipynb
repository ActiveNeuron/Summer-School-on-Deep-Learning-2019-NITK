{
  "nbformat": 4,
  "nbformat_minor": 0,
  "metadata": {
    "colab": {
      "name": "2_Part2",
      "provenance": [],
      "collapsed_sections": []
    },
    "kernelspec": {
      "name": "python3",
      "display_name": "Python 3"
    },
    "language_info": {
      "name": "python"
    }
  },
  "cells": [
    {
      "cell_type": "markdown",
      "metadata": {
        "id": "2j6etRm133nY"
      },
      "source": [
        "# Python Basics\n",
        "1. String Declaration and printing its type\n",
        ">Experiments with Strings\n",
        "2. Variable declaration\n",
        ">Experiments with Strings "
      ]
    },
    {
      "cell_type": "code",
      "metadata": {
        "colab": {
          "base_uri": "https://localhost:8080/"
        },
        "id": "JmFXSzRY3YpR",
        "outputId": "904d3103-eef3-444c-ca9f-64143439522c"
      },
      "source": [
        "a = \"sachinn\"\n",
        "\n",
        "print(\"Before Capitalizing :\", a)\n",
        "print(\"After capitalizing  :\",  )   #Complete the code"
      ],
      "execution_count": null,
      "outputs": [
        {
          "output_type": "stream",
          "text": [
            "Before Capitalizing : sachinn\n",
            "After capitalizing  : Sachinn\n"
          ],
          "name": "stdout"
        }
      ]
    },
    {
      "cell_type": "code",
      "metadata": {
        "colab": {
          "base_uri": "https://localhost:8080/"
        },
        "id": "DpAq_aBpMFgt",
        "outputId": "4b781401-cd0b-4739-94ea-deeadb2a1990"
      },
      "source": [
        "print(\"Before Converting to Uppercase :\", a)\n",
        "print(\"After  Converting to Uppercase :\", ) #Complete the code"
      ],
      "execution_count": null,
      "outputs": [
        {
          "output_type": "stream",
          "text": [
            "Before Converting to Uppercase : sachinn\n",
            "After  Converting to Uppercase : SACHINN\n"
          ],
          "name": "stdout"
        }
      ]
    },
    {
      "cell_type": "code",
      "metadata": {
        "colab": {
          "base_uri": "https://localhost:8080/"
        },
        "id": "bn1COnWNMJNO",
        "outputId": "1efffdef-6146-4118-f5f8-ca317db7b018"
      },
      "source": [
        "b = \"SACHIN\"\n",
        "print(\"Before Converting to Lowercase :\", b)\n",
        "print(\"After  Converting to Lowercase :\",  ) #Complete the code"
      ],
      "execution_count": null,
      "outputs": [
        {
          "output_type": "stream",
          "text": [
            "Before Converting to Lowercase : SACHIN\n",
            "After  Converting to Lowercase : sachin\n"
          ],
          "name": "stdout"
        }
      ]
    },
    {
      "cell_type": "code",
      "metadata": {
        "colab": {
          "base_uri": "https://localhost:8080/"
        },
        "id": "XDsCN4UuMOE_",
        "outputId": "1cb1ce15-8873-451b-8949-a4d9f1bf3690"
      },
      "source": [
        "print(\"Before Replace  :\", a)\n",
        "print(\"After Replace   :\",  )#Complete the code"
      ],
      "execution_count": null,
      "outputs": [
        {
          "output_type": "stream",
          "text": [
            "Before Replace  : sachinn\n",
            "After Replace   : sachiNN\n"
          ],
          "name": "stdout"
        }
      ]
    },
    {
      "cell_type": "code",
      "metadata": {
        "colab": {
          "base_uri": "https://localhost:8080/"
        },
        "id": "brdsaQP337Vl",
        "outputId": "f7c22f60-f152-4471-e587-61fe0c006d07"
      },
      "source": [
        "a = 10.0\n",
        "type(a)"
      ],
      "execution_count": null,
      "outputs": [
        {
          "output_type": "execute_result",
          "data": {
            "text/plain": [
              "float"
            ]
          },
          "metadata": {
            "tags": []
          },
          "execution_count": 2
        }
      ]
    },
    {
      "cell_type": "code",
      "metadata": {
        "colab": {
          "base_uri": "https://localhost:8080/"
        },
        "id": "-R-mcxRkQkE_",
        "outputId": "7ab10988-3cb3-447f-e113-d435f7dcd0ac"
      },
      "source": [
        "a= 0.10000000000000000000000000000000001\n",
        "print(a)\n",
        "b = 0.10\n",
        "print(b)"
      ],
      "execution_count": 5,
      "outputs": [
        {
          "output_type": "stream",
          "text": [
            "0.1\n",
            "0.1\n"
          ],
          "name": "stdout"
        }
      ]
    },
    {
      "cell_type": "code",
      "metadata": {
        "colab": {
          "base_uri": "https://localhost:8080/"
        },
        "id": "iTUFV_cB5pq1",
        "outputId": "2e09f444-01ed-4fc5-d1f0-7ac103eff68d"
      },
      "source": [
        "0.10000000000000000000000000000000001==0.10"
      ],
      "execution_count": 10,
      "outputs": [
        {
          "output_type": "execute_result",
          "data": {
            "text/plain": [
              "True"
            ]
          },
          "metadata": {
            "tags": []
          },
          "execution_count": 10
        }
      ]
    },
    {
      "cell_type": "code",
      "metadata": {
        "colab": {
          "base_uri": "https://localhost:8080/"
        },
        "id": "AyS76-5YRZWc",
        "outputId": "98a9b137-c195-466d-a046-99bea6de2f11"
      },
      "source": [
        "b = 0.123435987533\n",
        "print(b)"
      ],
      "execution_count": 11,
      "outputs": [
        {
          "output_type": "stream",
          "text": [
            "0.123435987533\n"
          ],
          "name": "stdout"
        }
      ]
    },
    {
      "cell_type": "code",
      "metadata": {
        "colab": {
          "base_uri": "https://localhost:8080/"
        },
        "id": "f4oMvElm58eg",
        "outputId": "bf9f51f0-62e6-4f6f-b68a-52d43a0641ab"
      },
      "source": [
        "x = 23.1225963\n",
        "y1 = format(x,'.1f')\n",
        "print(y1)\n",
        "y2 = format(x,'.2f')\n",
        "print(y2)\n",
        "y3 = format(x,'.3f')\n",
        "print(y3)"
      ],
      "execution_count": 12,
      "outputs": [
        {
          "output_type": "stream",
          "text": [
            "23.1\n",
            "23.12\n",
            "23.123\n"
          ],
          "name": "stdout"
        }
      ]
    },
    {
      "cell_type": "code",
      "metadata": {
        "colab": {
          "base_uri": "https://localhost:8080/"
        },
        "id": "tQJpVMBD37X2",
        "outputId": "14edb20b-77f4-4e40-e744-74cd0e49cae5"
      },
      "source": [
        "#Declaring Boolean variable\n",
        "a = True\n",
        "type(a)"
      ],
      "execution_count": null,
      "outputs": [
        {
          "output_type": "execute_result",
          "data": {
            "text/plain": [
              "bool"
            ]
          },
          "metadata": {
            "tags": []
          },
          "execution_count": 3
        }
      ]
    },
    {
      "cell_type": "code",
      "metadata": {
        "colab": {
          "base_uri": "https://localhost:8080/"
        },
        "id": "FdP3zBdM37cr",
        "outputId": "46cc5d85-fd02-4a25-c0a9-3f1b46eebe52"
      },
      "source": [
        "a = 10\n",
        "print(a)\n",
        "print(type(a))"
      ],
      "execution_count": null,
      "outputs": [
        {
          "output_type": "stream",
          "text": [
            "10\n",
            "<class 'int'>\n"
          ],
          "name": "stdout"
        }
      ]
    },
    {
      "cell_type": "code",
      "metadata": {
        "colab": {
          "base_uri": "https://localhost:8080/"
        },
        "id": "-AUQq2tZ4Dtv",
        "outputId": "1f90cdcd-cec7-412b-e363-f4a9db8d8018"
      },
      "source": [
        "#Input from user\n",
        "a = int(input())\n",
        "type(a)"
      ],
      "execution_count": null,
      "outputs": [
        {
          "output_type": "stream",
          "text": [
            "55\n"
          ],
          "name": "stdout"
        },
        {
          "output_type": "execute_result",
          "data": {
            "text/plain": [
              "int"
            ]
          },
          "metadata": {
            "tags": []
          },
          "execution_count": 5
        }
      ]
    },
    {
      "cell_type": "code",
      "metadata": {
        "colab": {
          "base_uri": "https://localhost:8080/"
        },
        "id": "h6Btf8PO4GF1",
        "outputId": "f671d82e-dfca-46e5-93c1-0088dbdb7410"
      },
      "source": [
        "b = float(a)\n",
        "print(b)\n",
        "print(type(b))"
      ],
      "execution_count": null,
      "outputs": [
        {
          "output_type": "stream",
          "text": [
            "55.0\n",
            "<class 'float'>\n"
          ],
          "name": "stdout"
        }
      ]
    },
    {
      "cell_type": "markdown",
      "metadata": {
        "id": "LEcAtCUdDwxb"
      },
      "source": [
        "# Mathematical Operations\n",
        "* Addition\n",
        "* Subtraction\n",
        "* Multiplication\n",
        "* Division\n",
        "* Ceil\n",
        "* Floor\n",
        "* GCD"
      ]
    },
    {
      "cell_type": "code",
      "metadata": {
        "colab": {
          "base_uri": "https://localhost:8080/"
        },
        "id": "9kygdJFwD0El",
        "outputId": "41364c55-6879-432d-f379-d75f6fe324ce"
      },
      "source": [
        "a = 5\n",
        "b = 2\n",
        "\n",
        "print(a+b)\n",
        "print(a-b)\n",
        "print(a*b)\n",
        "print(a/b)\n",
        "print(a//b)"
      ],
      "execution_count": null,
      "outputs": [
        {
          "output_type": "stream",
          "text": [
            "7\n",
            "3\n",
            "10\n",
            "2.5\n",
            "2\n"
          ],
          "name": "stdout"
        }
      ]
    },
    {
      "cell_type": "code",
      "metadata": {
        "colab": {
          "base_uri": "https://localhost:8080/"
        },
        "id": "8A9VfyHIEKjL",
        "outputId": "e7ef3c4c-2d3f-4a49-c769-97ca9c52f039"
      },
      "source": [
        "#abs keyword\n",
        "a = -5\n",
        "b = 2\n",
        "\n",
        "print(a/b)\n",
        "print(abs(a/b))"
      ],
      "execution_count": null,
      "outputs": [
        {
          "output_type": "stream",
          "text": [
            "-2.5\n",
            "2.5\n"
          ],
          "name": "stdout"
        }
      ]
    },
    {
      "cell_type": "code",
      "metadata": {
        "colab": {
          "base_uri": "https://localhost:8080/"
        },
        "id": "Y8424DD7E--a",
        "outputId": "980f31f6-9be6-4fba-cb0c-30f19c09bf53"
      },
      "source": [
        "a = (5/2)\n",
        "print(int(a))\n",
        "print(float(a))\n",
        "print(round(a))"
      ],
      "execution_count": null,
      "outputs": [
        {
          "output_type": "stream",
          "text": [
            "2\n",
            "2.5\n",
            "2\n"
          ],
          "name": "stdout"
        }
      ]
    },
    {
      "cell_type": "code",
      "metadata": {
        "colab": {
          "base_uri": "https://localhost:8080/"
        },
        "id": "GaiUgo-OEX5c",
        "outputId": "02e4989c-6e51-4735-f789-1db261eef59e"
      },
      "source": [
        "x = 10\n",
        "x+=1\n",
        "print(x)"
      ],
      "execution_count": null,
      "outputs": [
        {
          "output_type": "stream",
          "text": [
            "11\n"
          ],
          "name": "stdout"
        }
      ]
    },
    {
      "cell_type": "code",
      "metadata": {
        "colab": {
          "base_uri": "https://localhost:8080/"
        },
        "id": "LLAu-kwpEa7l",
        "outputId": "aae63816-973d-4670-e742-3d7dc03e405d"
      },
      "source": [
        "x = 10\n",
        "x=x+1\n",
        "print(x)"
      ],
      "execution_count": null,
      "outputs": [
        {
          "output_type": "stream",
          "text": [
            "11\n"
          ],
          "name": "stdout"
        }
      ]
    },
    {
      "cell_type": "code",
      "metadata": {
        "colab": {
          "base_uri": "https://localhost:8080/"
        },
        "id": "rTQrk1drEygu",
        "outputId": "36e334ff-e9b4-42d9-a7c8-3b09de6c2d62"
      },
      "source": [
        "#printing multiple values\n",
        "x  = 10\n",
        "print(x+1,x-1,x*2,x/2)"
      ],
      "execution_count": null,
      "outputs": [
        {
          "output_type": "stream",
          "text": [
            "11 9 20 5.0\n"
          ],
          "name": "stdout"
        }
      ]
    },
    {
      "cell_type": "code",
      "metadata": {
        "colab": {
          "base_uri": "https://localhost:8080/"
        },
        "id": "XVA1lerHIrhb",
        "outputId": "9d3c72f4-7f6d-4d65-ff91-3363e962a7c3"
      },
      "source": [
        "import math\n",
        "print(math.ceil(4.5))"
      ],
      "execution_count": null,
      "outputs": [
        {
          "output_type": "stream",
          "text": [
            "5\n"
          ],
          "name": "stdout"
        }
      ]
    },
    {
      "cell_type": "code",
      "metadata": {
        "colab": {
          "base_uri": "https://localhost:8080/"
        },
        "id": "BtzKyo1NIt5m",
        "outputId": "fd8723b9-0062-4658-fe93-9ae0086c5b9d"
      },
      "source": [
        "print(math.floor(4.5))"
      ],
      "execution_count": null,
      "outputs": [
        {
          "output_type": "stream",
          "text": [
            "4\n"
          ],
          "name": "stdout"
        }
      ]
    },
    {
      "cell_type": "code",
      "metadata": {
        "colab": {
          "base_uri": "https://localhost:8080/"
        },
        "id": "iqgdYn64It9N",
        "outputId": "8647b4bd-b3a8-4836-a208-b8facf55e3ec"
      },
      "source": [
        "print(math.factorial(5))"
      ],
      "execution_count": null,
      "outputs": [
        {
          "output_type": "stream",
          "text": [
            "120\n"
          ],
          "name": "stdout"
        }
      ]
    },
    {
      "cell_type": "code",
      "metadata": {
        "colab": {
          "base_uri": "https://localhost:8080/"
        },
        "id": "hItIl6AUI0Bt",
        "outputId": "b1827b1f-cc0f-4b6c-fd8e-6717bbedb987"
      },
      "source": [
        "import math\n",
        "print(math.gcd(10,5))"
      ],
      "execution_count": 14,
      "outputs": [
        {
          "output_type": "stream",
          "text": [
            "5\n"
          ],
          "name": "stdout"
        }
      ]
    },
    {
      "cell_type": "code",
      "metadata": {
        "colab": {
          "base_uri": "https://localhost:8080/"
        },
        "id": "RcJbIaIaJAPH",
        "outputId": "b0fc05cd-1a5a-4042-e911-ba34c146db0e"
      },
      "source": [
        "print(math.pi)"
      ],
      "execution_count": null,
      "outputs": [
        {
          "output_type": "stream",
          "text": [
            "3.141592653589793\n"
          ],
          "name": "stdout"
        }
      ]
    },
    {
      "cell_type": "code",
      "metadata": {
        "colab": {
          "base_uri": "https://localhost:8080/"
        },
        "id": "28S6qXF_JL02",
        "outputId": "ac727553-9549-482d-f943-efaaaf69b6dc"
      },
      "source": [
        "print(math.log(2))"
      ],
      "execution_count": null,
      "outputs": [
        {
          "output_type": "stream",
          "text": [
            "0.6931471805599453\n"
          ],
          "name": "stdout"
        }
      ]
    },
    {
      "cell_type": "code",
      "metadata": {
        "colab": {
          "base_uri": "https://localhost:8080/"
        },
        "id": "CLefDyCiJMmj",
        "outputId": "304eac27-9eb2-4f54-dce5-d99a5144f17c"
      },
      "source": [
        "print(math.log(2,10))"
      ],
      "execution_count": null,
      "outputs": [
        {
          "output_type": "stream",
          "text": [
            "0.30102999566398114\n"
          ],
          "name": "stdout"
        }
      ]
    },
    {
      "cell_type": "code",
      "metadata": {
        "colab": {
          "base_uri": "https://localhost:8080/"
        },
        "id": "5bZBBQCyJP17",
        "outputId": "af503f42-2259-4d80-9691-e0d90bb6bc67"
      },
      "source": [
        "print(math.sqrt(4))"
      ],
      "execution_count": null,
      "outputs": [
        {
          "output_type": "stream",
          "text": [
            "2.0\n"
          ],
          "name": "stdout"
        }
      ]
    },
    {
      "cell_type": "code",
      "metadata": {
        "id": "OLP0t9PIJWRf"
      },
      "source": [
        "# sin cos tan\n",
        "a = math.sin(30)\n",
        "print(a)\n",
        "\n",
        "b = math.cos(30)\n",
        "print(b)\n",
        "\n",
        "c = math.tan(30)\n",
        "print(c)"
      ],
      "execution_count": null,
      "outputs": []
    }
  ]
}