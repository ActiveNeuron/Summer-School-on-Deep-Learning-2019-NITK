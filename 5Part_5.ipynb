{
  "nbformat": 4,
  "nbformat_minor": 0,
  "metadata": {
    "colab": {
      "name": "2_Python_Basics .ipynb",
      "provenance": [],
      "collapsed_sections": []
    },
    "kernelspec": {
      "name": "python3",
      "display_name": "Python 3"
    }
  },
  "cells": [
    {
      "cell_type": "markdown",
      "metadata": {
        "id": "ZkTO21GAa1IF"
      },
      "source": [
        "# Python Basics\n",
        "*  String Declaration and printing its type\n",
        "*  Integer Declaration snd printing its type\n",
        "*  Bool variable Declaration snd printing its type\n",
        "*  Taking Input from the user\n",
        "*  Type conversion "
      ]
    },
    {
      "cell_type": "code",
      "metadata": {
        "id": "v_QPeJPXaYS5",
        "colab": {
          "base_uri": "https://localhost:8080/"
        },
        "outputId": "e267b6bb-6220-49f2-9d6a-e94c3682f2ef"
      },
      "source": [
        "a = \"NITK\"\n",
        "type(a)"
      ],
      "execution_count": null,
      "outputs": [
        {
          "output_type": "execute_result",
          "data": {
            "text/plain": [
              "str"
            ]
          },
          "metadata": {
            "tags": []
          },
          "execution_count": 57
        }
      ]
    },
    {
      "cell_type": "code",
      "metadata": {
        "id": "9I5yh_aGbVZM",
        "colab": {
          "base_uri": "https://localhost:8080/"
        },
        "outputId": "e26bf5f9-51c4-44ac-8567-4cd052e3692b"
      },
      "source": [
        "a = 10.0\n",
        "type(a)"
      ],
      "execution_count": null,
      "outputs": [
        {
          "output_type": "execute_result",
          "data": {
            "text/plain": [
              "float"
            ]
          },
          "metadata": {
            "tags": []
          },
          "execution_count": 61
        }
      ]
    },
    {
      "cell_type": "code",
      "metadata": {
        "id": "yUJ3q2CXbVcK",
        "colab": {
          "base_uri": "https://localhost:8080/"
        },
        "outputId": "fb1fcca1-4207-4294-9111-4e94ace72efe"
      },
      "source": [
        "a = True\n",
        "type(a)"
      ],
      "execution_count": null,
      "outputs": [
        {
          "output_type": "execute_result",
          "data": {
            "text/plain": [
              "bool"
            ]
          },
          "metadata": {
            "tags": []
          },
          "execution_count": 60
        }
      ]
    },
    {
      "cell_type": "code",
      "metadata": {
        "id": "YluGPnFjbVkU",
        "colab": {
          "base_uri": "https://localhost:8080/"
        },
        "outputId": "725362e9-f6e8-4c9e-f032-e03555dfa1fa"
      },
      "source": [
        "a = 10\n",
        "print(a)\n",
        "print(type(a))"
      ],
      "execution_count": null,
      "outputs": [
        {
          "output_type": "stream",
          "text": [
            "10\n",
            "<class 'int'>\n"
          ],
          "name": "stdout"
        }
      ]
    },
    {
      "cell_type": "code",
      "metadata": {
        "colab": {
          "base_uri": "https://localhost:8080/"
        },
        "id": "1exbCMSAjPd-",
        "outputId": "9c357090-1e0d-44fc-8724-ca517c22a8e2"
      },
      "source": [
        "b = float(a)\n",
        "print(b)\n",
        "print(type(b))"
      ],
      "execution_count": null,
      "outputs": [
        {
          "output_type": "stream",
          "text": [
            "10.0\n",
            "<class 'float'>\n"
          ],
          "name": "stdout"
        }
      ]
    },
    {
      "cell_type": "code",
      "metadata": {
        "colab": {
          "base_uri": "https://localhost:8080/"
        },
        "id": "XaDT7ME_SiTE",
        "outputId": "6e941dfb-59cf-4f2f-8feb-a8b6d21acdb4"
      },
      "source": [
        "a = int(input())\n",
        "type(a)"
      ],
      "execution_count": null,
      "outputs": [
        {
          "output_type": "stream",
          "text": [
            "4\n"
          ],
          "name": "stdout"
        },
        {
          "output_type": "execute_result",
          "data": {
            "text/plain": [
              "int"
            ]
          },
          "metadata": {
            "tags": []
          },
          "execution_count": 70
        }
      ]
    },
    {
      "cell_type": "markdown",
      "metadata": {
        "id": "oxfyJqj4ccdX"
      },
      "source": [
        "# Mathematical Operations\n",
        "* Addition\n",
        "* Subtraction\n",
        "* Multiplication\n",
        "* Division\n",
        "* Ceil\n",
        "* Floor\n",
        "* GCD\n"
      ]
    },
    {
      "cell_type": "code",
      "metadata": {
        "id": "kgSoH2IgbVnU",
        "colab": {
          "base_uri": "https://localhost:8080/"
        },
        "outputId": "0b3f2fc8-280b-4123-afec-0a764da8a978"
      },
      "source": [
        "a = 10\n",
        "b = 20\n",
        "\n",
        "print(a+b)\n",
        "print(a-b)\n",
        "print(a*b)\n",
        "print(a/b)"
      ],
      "execution_count": null,
      "outputs": [
        {
          "output_type": "stream",
          "text": [
            "30\n",
            "-10\n",
            "200\n",
            "0.5\n"
          ],
          "name": "stdout"
        }
      ]
    },
    {
      "cell_type": "code",
      "metadata": {
        "colab": {
          "base_uri": "https://localhost:8080/"
        },
        "id": "dUCcKXrmchix",
        "outputId": "3de83e27-bfcd-448a-ac51-d34bd6a944c4"
      },
      "source": [
        "import math as m\n",
        "a = 10.1\n",
        "print(m.ceil(a))\n",
        "print(m.floor(a))"
      ],
      "execution_count": null,
      "outputs": [
        {
          "output_type": "stream",
          "text": [
            "11\n",
            "10\n"
          ],
          "name": "stdout"
        }
      ]
    },
    {
      "cell_type": "code",
      "metadata": {
        "id": "KyiOtgJMchlk",
        "colab": {
          "base_uri": "https://localhost:8080/"
        },
        "outputId": "1510986f-09ea-4470-9f35-05b2cd2f44d6"
      },
      "source": [
        "a = 10\n",
        "b = 5\n",
        "\n",
        "print(m.gcd(a,b))"
      ],
      "execution_count": null,
      "outputs": [
        {
          "output_type": "stream",
          "text": [
            "5\n"
          ],
          "name": "stdout"
        }
      ]
    },
    {
      "cell_type": "markdown",
      "metadata": {
        "id": "luhseXc4c_BA"
      },
      "source": [
        "### Assignment 1\n",
        "Import math library and print the value of \" Pi \""
      ]
    },
    {
      "cell_type": "code",
      "metadata": {
        "id": "9HaifjjMdWOR",
        "colab": {
          "base_uri": "https://localhost:8080/"
        },
        "outputId": "85bd92d7-3d66-4a50-81e5-f79250de51b1"
      },
      "source": [
        "from math import pi\n",
        "pi\n"
      ],
      "execution_count": null,
      "outputs": [
        {
          "output_type": "execute_result",
          "data": {
            "text/plain": [
              "3.141592653589793"
            ]
          },
          "metadata": {
            "tags": []
          },
          "execution_count": 79
        }
      ]
    },
    {
      "cell_type": "markdown",
      "metadata": {
        "id": "911NR2OCdHHn"
      },
      "source": [
        "* Capitalize\n",
        "* Uppercse\n",
        "* Lowercase\n",
        "* Replace"
      ]
    },
    {
      "cell_type": "code",
      "metadata": {
        "id": "n6GXNmsnchot",
        "colab": {
          "base_uri": "https://localhost:8080/"
        },
        "outputId": "753ca038-5d98-47f7-f492-3a436030046f"
      },
      "source": [
        "a = \"sachinn\"\n",
        "\n",
        "print(\"Before Capitalizing :\", a)\n",
        "print(\"After capitalizing  :\", a.capitalize())   #Complete the code"
      ],
      "execution_count": null,
      "outputs": [
        {
          "output_type": "stream",
          "text": [
            "Before Capitalizing : sachinn\n",
            "After capitalizing  : Sachinn\n"
          ],
          "name": "stdout"
        }
      ]
    },
    {
      "cell_type": "code",
      "metadata": {
        "id": "10vkywmvchrU",
        "colab": {
          "base_uri": "https://localhost:8080/"
        },
        "outputId": "7ec52399-dbd2-48d4-9106-3d07b5bd6b49"
      },
      "source": [
        "print(\"Before Converting to Uppercase :\", a)\n",
        "print(\"After  Converting to Uppercase :\",a.upper() ) #Complete the code"
      ],
      "execution_count": null,
      "outputs": [
        {
          "output_type": "stream",
          "text": [
            "Before Converting to Uppercase : sachin\n",
            "After  Converting to Uppercase : SACHIN\n"
          ],
          "name": "stdout"
        }
      ]
    },
    {
      "cell_type": "code",
      "metadata": {
        "id": "WTplg4hZchud",
        "colab": {
          "base_uri": "https://localhost:8080/"
        },
        "outputId": "109c56c0-1afb-4ff8-f02e-12758f2148ac"
      },
      "source": [
        "b = \"SACHIN\"\n",
        "print(\"Before Converting to Lowercase :\", b)\n",
        "print(\"After  Converting to Lowercase :\", b.lower()  ) #Complete the code"
      ],
      "execution_count": null,
      "outputs": [
        {
          "output_type": "stream",
          "text": [
            "Before Converting to Lowercase : SACHIN\n",
            "After  Converting to Lowercase : sachin\n"
          ],
          "name": "stdout"
        }
      ]
    },
    {
      "cell_type": "code",
      "metadata": {
        "id": "3ItdKaAedfBZ",
        "colab": {
          "base_uri": "https://localhost:8080/"
        },
        "outputId": "30d59ef4-ae79-4c9b-c66f-697b71166a81"
      },
      "source": [
        "print(\"Before Replace  :\", a)\n",
        "print(\"After Replace   :\", a.replace(\"n\",\"N\") )#Complete the code"
      ],
      "execution_count": null,
      "outputs": [
        {
          "output_type": "stream",
          "text": [
            "Before Replace  : sachinn\n",
            "After Replace   : sachiNN\n"
          ],
          "name": "stdout"
        }
      ]
    },
    {
      "cell_type": "markdown",
      "metadata": {
        "id": "vc_SWBHedjjf"
      },
      "source": [
        "# Loops\n",
        "* if\n",
        "* for\n",
        "* While"
      ]
    },
    {
      "cell_type": "code",
      "metadata": {
        "id": "-sUWxx66dfEY",
        "colab": {
          "base_uri": "https://localhost:8080/"
        },
        "outputId": "cdb58b33-203d-4371-f8c3-10bab055928d"
      },
      "source": [
        "a = 10\n",
        "b = 50\n",
        "\n",
        "if(a<b):\n",
        "    print(a)\n",
        "else:\n",
        "    print(b)"
      ],
      "execution_count": null,
      "outputs": [
        {
          "output_type": "stream",
          "text": [
            "10\n"
          ],
          "name": "stdout"
        }
      ]
    },
    {
      "cell_type": "code",
      "metadata": {
        "colab": {
          "base_uri": "https://localhost:8080/"
        },
        "id": "PeCadQ_udfHP",
        "outputId": "bf1c228b-5a15-4c39-c26c-9c86c71ae64b"
      },
      "source": [
        "'''\n",
        "Print the below output using for loop\n",
        "0 0\n",
        "1 1\n",
        "2 4\n",
        "3 9\n",
        "4 16 \n",
        "'''\n",
        "for i in range(5):\n",
        "    print(i,i*i)\n",
        "       "
      ],
      "execution_count": null,
      "outputs": [
        {
          "output_type": "stream",
          "text": [
            "0 0\n",
            "1 1\n",
            "2 4\n",
            "3 9\n",
            "4 16\n"
          ],
          "name": "stdout"
        }
      ]
    },
    {
      "cell_type": "code",
      "metadata": {
        "id": "JtHwxt0udfJ-",
        "colab": {
          "base_uri": "https://localhost:8080/"
        },
        "outputId": "a9552ee6-277d-405a-8454-c38ef64acaab"
      },
      "source": [
        "#Complete the code\n",
        "\n",
        "i=0\n",
        "while (i<5):\n",
        "    print(i,i*i)\n",
        "    i=i+1  "
      ],
      "execution_count": null,
      "outputs": [
        {
          "output_type": "stream",
          "text": [
            "0 0\n",
            "1 1\n",
            "2 4\n",
            "3 9\n",
            "4 16\n"
          ],
          "name": "stdout"
        }
      ]
    },
    {
      "cell_type": "markdown",
      "metadata": {
        "id": "TMeFxzTFeSmD"
      },
      "source": [
        "### Functions"
      ]
    },
    {
      "cell_type": "code",
      "metadata": {
        "id": "0I6Loa_jeS4C",
        "colab": {
          "base_uri": "https://localhost:8080/"
        },
        "outputId": "04a01601-37ed-488d-defb-7a8bb7613496"
      },
      "source": [
        " #Addition Operation using fuctions by taking input from user \n",
        "\n",
        "def add():\n",
        "    a = int(input())\n",
        "    b = int(input())\n",
        "    c  = a+b\n",
        "    print(c)\n",
        "add()"
      ],
      "execution_count": null,
      "outputs": [
        {
          "output_type": "stream",
          "text": [
            "100\n",
            "800\n",
            "900\n"
          ],
          "name": "stdout"
        }
      ]
    },
    {
      "cell_type": "code",
      "metadata": {
        "id": "QI2POX4wegB6",
        "colab": {
          "base_uri": "https://localhost:8080/"
        },
        "outputId": "e6d3411f-d665-4809-e351-3f513ac178c1"
      },
      "source": [
        "'''\n",
        "\n",
        "Print the below output using functions\n",
        "\n",
        "0 0\n",
        "1 1\n",
        "2 4\n",
        "3 9\n",
        "4 16 \n",
        "\n",
        "'''\n",
        "\n",
        "\n",
        "def square (val):\n",
        "    for i in range(val):\n",
        "        print(i,i*i)\n",
        "square(5)"
      ],
      "execution_count": null,
      "outputs": [
        {
          "output_type": "stream",
          "text": [
            "0 0\n",
            "1 1\n",
            "2 4\n",
            "3 9\n",
            "4 16\n"
          ],
          "name": "stdout"
        }
      ]
    },
    {
      "cell_type": "markdown",
      "metadata": {
        "id": "umik4F31e0HD"
      },
      "source": [
        "# Containers\n",
        "Python includes several built-in container to hold the data.\n",
        "* Arrays\n",
        "* Lists\n",
        "* Tuples\n",
        "* Dictionaries\n",
        "* Sets"
      ]
    },
    {
      "cell_type": "markdown",
      "metadata": {
        "id": "aIt7HZcee4Tc"
      },
      "source": [
        "# Arrays\n",
        "An array is a grid of values, of the same type, and is indexed by a tuple of non negative integers. The number of dimensions is the rank of the array; the shape of an array is a tuple of integers giving the size of the array along each dimension.\n",
        "\n",
        "### Array Operation\n",
        "* Declaring Array\n",
        "* Indentify the type\n",
        "* Accesing Array elements\n",
        "* Printing the last element\n",
        "* Printing the lenght of the Array\n",
        "* Deleting the Array"
      ]
    },
    {
      "cell_type": "code",
      "metadata": {
        "id": "QfQmjuPtWZPH"
      },
      "source": [
        ""
      ],
      "execution_count": null,
      "outputs": []
    },
    {
      "cell_type": "markdown",
      "metadata": {
        "id": "vFblgD6jfGnn"
      },
      "source": [
        "### Array Operation (Continued)\n",
        "* Exploring the dimensions\n",
        "* Declaring the Array Using Random keyword (random,randn)\n",
        "* Printing the shape of the array\n",
        "* Dimension of the array\n",
        "* Accssing the array elements\n",
        "* Transpose\n",
        "* Reshape\n"
      ]
    },
    {
      "cell_type": "markdown",
      "metadata": {
        "id": "A-SggbouA3-H"
      },
      "source": [
        "#Python Basics Continued!!!!!"
      ]
    },
    {
      "cell_type": "markdown",
      "metadata": {
        "id": "_XQUBCIjBYGn"
      },
      "source": [
        "### Vectorised Implementation\n",
        "* Addition\n",
        "* Subtraction\n",
        "* Multiplication\n",
        "* Dot Product\n",
        "* Inner Product\n",
        "* Outer Product\n",
        "\n",
        "Note: \n",
        "1.  An inner product is the more general term which can apply to a wide range of different vector spaces \n",
        "2. The dot product is the name given to the inner product on a finite dimensional Euclidean space.\n",
        "3. the outer product of two coordinate vectors is a matrix. If the two vectors have dimensions n and m, then their outer product is an n × m matrix. More generally, given two tensors, their outer product is a tensor\n"
      ]
    },
    {
      "cell_type": "code",
      "metadata": {
        "colab": {
          "base_uri": "https://localhost:8080/"
        },
        "id": "dotDw6oldAMS",
        "outputId": "2b2292f3-3a1a-4921-ef6f-3117784e05ee"
      },
      "source": [
        "import numpy as np\n",
        "a = np.array([1,3,4,5])\n",
        "b = np.array([6,7,8,9])\n",
        "print(a)\n",
        "print(b)"
      ],
      "execution_count": null,
      "outputs": [
        {
          "output_type": "stream",
          "text": [
            "[1 3 4 5]\n",
            "[6 7 8 9]\n"
          ],
          "name": "stdout"
        }
      ]
    },
    {
      "cell_type": "code",
      "metadata": {
        "colab": {
          "base_uri": "https://localhost:8080/"
        },
        "id": "iKz6_Gjwh-xv",
        "outputId": "7d01ea2e-2b18-4241-d9c1-6dc2acb3bce2"
      },
      "source": [
        "a+b"
      ],
      "execution_count": null,
      "outputs": [
        {
          "output_type": "execute_result",
          "data": {
            "text/plain": [
              "array([ 7, 10, 12, 14])"
            ]
          },
          "metadata": {
            "tags": []
          },
          "execution_count": 93
        }
      ]
    },
    {
      "cell_type": "code",
      "metadata": {
        "colab": {
          "base_uri": "https://localhost:8080/"
        },
        "id": "GkU2JwSxiN97",
        "outputId": "8d2624ca-064a-4e5d-a14d-f6051821e7b2"
      },
      "source": [
        "a-b"
      ],
      "execution_count": null,
      "outputs": [
        {
          "output_type": "execute_result",
          "data": {
            "text/plain": [
              "array([-5, -4, -4, -4])"
            ]
          },
          "metadata": {
            "tags": []
          },
          "execution_count": 94
        }
      ]
    },
    {
      "cell_type": "code",
      "metadata": {
        "colab": {
          "base_uri": "https://localhost:8080/"
        },
        "id": "Itn1HllhiRZQ",
        "outputId": "5ed569ae-0305-4962-f360-0962aa424c96"
      },
      "source": [
        "a*b"
      ],
      "execution_count": null,
      "outputs": [
        {
          "output_type": "execute_result",
          "data": {
            "text/plain": [
              "array([ 6, 21, 32, 45])"
            ]
          },
          "metadata": {
            "tags": []
          },
          "execution_count": 95
        }
      ]
    },
    {
      "cell_type": "code",
      "metadata": {
        "colab": {
          "base_uri": "https://localhost:8080/"
        },
        "id": "m3uC2wHpiUU0",
        "outputId": "95892e20-1818-4a0d-813d-7de8d5f8bb19"
      },
      "source": [
        "import numpy as np\n",
        "a = np.array([1,3,4,5])\n",
        "b = np.array([6,7,8,9])\n",
        "a = np.dot(a,b)\n",
        "a"
      ],
      "execution_count": null,
      "outputs": [
        {
          "output_type": "execute_result",
          "data": {
            "text/plain": [
              "104"
            ]
          },
          "metadata": {
            "tags": []
          },
          "execution_count": 98
        }
      ]
    },
    {
      "cell_type": "code",
      "metadata": {
        "colab": {
          "base_uri": "https://localhost:8080/"
        },
        "id": "3lqMLzZqixEj",
        "outputId": "a7ccecdd-c777-49fa-d277-829c0df830a7"
      },
      "source": [
        "import numpy as np\n",
        "a = np.array([1,3,4,5])\n",
        "b = np.array([6,7,8,9])\n",
        "a = np.inner(a,b)\n",
        "a"
      ],
      "execution_count": null,
      "outputs": [
        {
          "output_type": "execute_result",
          "data": {
            "text/plain": [
              "104"
            ]
          },
          "metadata": {
            "tags": []
          },
          "execution_count": 101
        }
      ]
    },
    {
      "cell_type": "code",
      "metadata": {
        "colab": {
          "base_uri": "https://localhost:8080/"
        },
        "id": "eJSmypopjCfq",
        "outputId": "15f2122e-a9ec-470c-cf9d-067b58a16c1d"
      },
      "source": [
        "import numpy as np\n",
        "a = np.array([1,3,4,5])\n",
        "b = np.array([6,7,8,9])\n",
        "a = np.outer(a,b)\n",
        "a"
      ],
      "execution_count": null,
      "outputs": [
        {
          "output_type": "execute_result",
          "data": {
            "text/plain": [
              "array([[ 6,  7,  8,  9],\n",
              "       [18, 21, 24, 27],\n",
              "       [24, 28, 32, 36],\n",
              "       [30, 35, 40, 45]])"
            ]
          },
          "metadata": {
            "tags": []
          },
          "execution_count": 102
        }
      ]
    },
    {
      "cell_type": "markdown",
      "metadata": {
        "id": "pDiXHgk-G1MN"
      },
      "source": [
        "### Comparison between Vectorised and Non Vectorised Implementation in Python"
      ]
    },
    {
      "cell_type": "code",
      "metadata": {
        "id": "LwgvPsS-IF0n"
      },
      "source": [
        "import numpy as np\n",
        "num = 10000000\n",
        "a = np.random.random(num)\n",
        "b = np.random.random(num)"
      ],
      "execution_count": null,
      "outputs": []
    },
    {
      "cell_type": "code",
      "metadata": {
        "colab": {
          "base_uri": "https://localhost:8080/"
        },
        "id": "qq5qKWyDBbIh",
        "outputId": "39485ce0-1845-4247-cb43-016633916884"
      },
      "source": [
        "import time #Vector\n",
        "start = time.time()\n",
        "c = np.dot(a,b)\n",
        "end = time.time()\n",
        "\n",
        "print(c)\n",
        "print(\"Verctorize  : \" +  str((end -start)*1000) + 'ms')"
      ],
      "execution_count": null,
      "outputs": [
        {
          "output_type": "stream",
          "text": [
            "2500821.350959437\n",
            "Verctorize  : 18.9821720123291ms\n"
          ],
          "name": "stdout"
        }
      ]
    },
    {
      "cell_type": "code",
      "metadata": {
        "colab": {
          "base_uri": "https://localhost:8080/"
        },
        "id": "Us9SHURGHExo",
        "outputId": "494b2a91-bda8-44b6-bfbb-2dfc2ed532db"
      },
      "source": [
        "c =0     #Non Vector\n",
        "start = time.time()\n",
        "for i in range(num):\n",
        "    c += a[i]*b[i]\n",
        "end = time.time()\n",
        "print(c)\n",
        "print(\"Loop version  : \" +  str((end -start)*1000) + 'ms')"
      ],
      "execution_count": null,
      "outputs": [
        {
          "output_type": "stream",
          "text": [
            "2500821.3509599343\n",
            "Loop version  : 5896.934509277344ms\n"
          ],
          "name": "stdout"
        }
      ]
    },
    {
      "cell_type": "markdown",
      "metadata": {
        "id": "mH-u41HCIrSn"
      },
      "source": [
        "### Array Slicing"
      ]
    },
    {
      "cell_type": "code",
      "metadata": {
        "colab": {
          "base_uri": "https://localhost:8080/"
        },
        "id": "27T_KrMFIsid",
        "outputId": "33340e45-4675-4354-fb1c-6a068f738d5a"
      },
      "source": [
        "a = np.array(range(15))\n",
        "print(a)"
      ],
      "execution_count": null,
      "outputs": [
        {
          "output_type": "stream",
          "text": [
            "[ 0  1  2  3  4  5  6  7  8  9 10 11 12 13 14]\n"
          ],
          "name": "stdout"
        }
      ]
    },
    {
      "cell_type": "code",
      "metadata": {
        "colab": {
          "base_uri": "https://localhost:8080/"
        },
        "id": "CbVDACcKIz_3",
        "outputId": "55d2d197-1ac1-4587-8358-99478b34d005"
      },
      "source": [
        "#Printing all the element\n",
        "print(a)"
      ],
      "execution_count": null,
      "outputs": [
        {
          "output_type": "stream",
          "text": [
            "[ 0  1  2  3  4  5  6  7  8  9 10 11 12 13 14]\n"
          ],
          "name": "stdout"
        }
      ]
    },
    {
      "cell_type": "code",
      "metadata": {
        "colab": {
          "base_uri": "https://localhost:8080/"
        },
        "id": "JT8kePbzI0DE",
        "outputId": "fdab8c19-11a4-4f5d-b59a-99dfabb66b6e"
      },
      "source": [
        "#Printing first three elements\n",
        "print(a[:3])"
      ],
      "execution_count": null,
      "outputs": [
        {
          "output_type": "stream",
          "text": [
            "[0 1 2]\n"
          ],
          "name": "stdout"
        }
      ]
    },
    {
      "cell_type": "code",
      "metadata": {
        "colab": {
          "base_uri": "https://localhost:8080/"
        },
        "id": "CXnEmv3oI0Gj",
        "outputId": "97136b26-8333-4c97-fcf5-15934e58dc78"
      },
      "source": [
        "#Starting from 3 print all\n",
        "print(a[3:])"
      ],
      "execution_count": null,
      "outputs": [
        {
          "output_type": "stream",
          "text": [
            "[ 3  4  5  6  7  8  9 10 11 12 13 14]\n"
          ],
          "name": "stdout"
        }
      ]
    },
    {
      "cell_type": "code",
      "metadata": {
        "colab": {
          "base_uri": "https://localhost:8080/"
        },
        "id": "DdAvxyLlI0JI",
        "outputId": "ff79210d-f750-40b5-e59f-2387f1821de8"
      },
      "source": [
        "#Starting from 2 excluding 9\n",
        "print(a[2:9])"
      ],
      "execution_count": null,
      "outputs": [
        {
          "output_type": "stream",
          "text": [
            "[2 3 4 5 6 7 8]\n"
          ],
          "name": "stdout"
        }
      ]
    },
    {
      "cell_type": "code",
      "metadata": {
        "colab": {
          "base_uri": "https://localhost:8080/"
        },
        "id": "MqQC2-MkI0Mw",
        "outputId": "48381c1e-dc59-4afd-c2e6-1dc642e57aa1"
      },
      "source": [
        "#Starting from 0 one interval\n",
        "print(a[::2])"
      ],
      "execution_count": null,
      "outputs": [
        {
          "output_type": "stream",
          "text": [
            "[ 0  2  4  6  8 10 12 14]\n"
          ],
          "name": "stdout"
        }
      ]
    },
    {
      "cell_type": "code",
      "metadata": {
        "colab": {
          "base_uri": "https://localhost:8080/"
        },
        "id": "Z_ONejxHmQJw",
        "outputId": "b4596d9f-7147-4590-faeb-b28afaf12592"
      },
      "source": [
        "print(a[0:15:2])"
      ],
      "execution_count": null,
      "outputs": [
        {
          "output_type": "stream",
          "text": [
            "[ 0  2  4  6  8 10 12 14]\n"
          ],
          "name": "stdout"
        }
      ]
    },
    {
      "cell_type": "code",
      "metadata": {
        "colab": {
          "base_uri": "https://localhost:8080/"
        },
        "id": "Oaw3hs4LI9nZ",
        "outputId": "d2bb3618-5cdd-486b-8cf7-8efd7564ce69"
      },
      "source": [
        "#Starting from 3 one interval (including 3)\n",
        "print(a[::3])"
      ],
      "execution_count": null,
      "outputs": [
        {
          "output_type": "stream",
          "text": [
            "[ 0  3  6  9 12]\n"
          ],
          "name": "stdout"
        }
      ]
    },
    {
      "cell_type": "code",
      "metadata": {
        "colab": {
          "base_uri": "https://localhost:8080/"
        },
        "id": "luiL1l0pmlt9",
        "outputId": "51e96666-4153-48eb-b91a-ea200e6c71fa"
      },
      "source": [
        "print(a[0:15:3])"
      ],
      "execution_count": null,
      "outputs": [
        {
          "output_type": "stream",
          "text": [
            "[ 0  3  6  9 12]\n"
          ],
          "name": "stdout"
        }
      ]
    },
    {
      "cell_type": "code",
      "metadata": {
        "colab": {
          "base_uri": "https://localhost:8080/"
        },
        "id": "I0PXuQHXI9qy",
        "outputId": "8a5c2043-d244-46ab-b7c3-154316e030b8"
      },
      "source": [
        "#Printing in reverse order\n",
        "print(a[::-1])"
      ],
      "execution_count": null,
      "outputs": [
        {
          "output_type": "stream",
          "text": [
            "[14 13 12 11 10  9  8  7  6  5  4  3  2  1  0]\n"
          ],
          "name": "stdout"
        }
      ]
    },
    {
      "cell_type": "markdown",
      "metadata": {
        "id": "_4AKR6ikKulk"
      },
      "source": [
        "### Broadcasting\n",
        "Broadcasting is a powerful mechanism that allows numpy to work with arrays of different shapes when performing arithmetic operations. Frequently we have a smaller array and a larger array, and we want to use the smaller array multiple times to perform some operation on the larger array."
      ]
    },
    {
      "cell_type": "code",
      "metadata": {
        "colab": {
          "base_uri": "https://localhost:8080/"
        },
        "id": "d42pI2BzLBhj",
        "outputId": "bb416fd7-2072-4c76-989e-6fe943c74e6e"
      },
      "source": [
        "from google.colab import drive\n",
        "drive.mount('/content/drive')"
      ],
      "execution_count": null,
      "outputs": [
        {
          "output_type": "stream",
          "text": [
            "Drive already mounted at /content/drive; to attempt to forcibly remount, call drive.mount(\"/content/drive\", force_remount=True).\n"
          ],
          "name": "stdout"
        }
      ]
    },
    {
      "cell_type": "code",
      "metadata": {
        "colab": {
          "base_uri": "https://localhost:8080/",
          "height": 209
        },
        "id": "DX1C4WvrKx-S",
        "outputId": "b7dfba94-75dd-4e78-c8b1-46cd5d97160c"
      },
      "source": [
        "from IPython.display import Image, display\n",
        "display(Image(filename='/content/drive/My Drive/2021/MTech/Files/1.png', embed=True))"
      ],
      "execution_count": null,
      "outputs": [
        {
          "output_type": "display_data",
          "data": {
            "image/png": "[encoded data removed]",
            "text/plain": [
              "<IPython.core.display.Image object>"
            ]
          },
          "metadata": {
            "tags": []
          }
        }
      ]
    },
    {
      "cell_type": "code",
      "metadata": {
        "colab": {
          "base_uri": "https://localhost:8080/"
        },
        "id": "UdKiE2t7LVaf",
        "outputId": "6cedeea0-9d21-49c5-dcfd-e02cb93234ab"
      },
      "source": [
        "import numpy as np\n",
        "a = np.arange(3) #complete code\n",
        "b = 1            #complete code\n",
        "print(a)\n",
        "print(\"\")\n",
        "\n",
        "print(b)\n",
        "print(\"\")\n",
        "\n",
        "a+b"
      ],
      "execution_count": null,
      "outputs": [
        {
          "output_type": "stream",
          "text": [
            "[0 1 2]\n",
            "\n",
            "1\n",
            "\n"
          ],
          "name": "stdout"
        },
        {
          "output_type": "execute_result",
          "data": {
            "text/plain": [
              "array([1, 2, 3])"
            ]
          },
          "metadata": {
            "tags": []
          },
          "execution_count": 122
        }
      ]
    },
    {
      "cell_type": "code",
      "metadata": {
        "colab": {
          "base_uri": "https://localhost:8080/",
          "height": 189
        },
        "id": "_bKcWFDSLldv",
        "outputId": "871d535e-8f07-482f-e639-604f327d39c8"
      },
      "source": [
        "from IPython.display import Image, display\n",
        "display(Image(filename='/content/drive/My Drive/2021/MTech/Files/2.png', embed=True))"
      ],
      "execution_count": null,
      "outputs": [
        {
          "output_type": "display_data",
          "data": {
            "image/png": "[encoded data removed]",
            "text/plain": [
              "<IPython.core.display.Image object>"
            ]
          },
          "metadata": {
            "tags": []
          }
        }
      ]
    },
    {
      "cell_type": "code",
      "metadata": {
        "colab": {
          "base_uri": "https://localhost:8080/"
        },
        "id": "RhQIJzX1MJu5",
        "outputId": "4d7b1d9b-7e4b-438a-826e-0ebaf4035a8a"
      },
      "source": [
        "a = np.arange(6).reshape(2,3) #Complete the code\n",
        "print(a)\n",
        "print(\"\")\n",
        "b = np.arange(3).reshape(1,3) #Complete the code\n",
        "print(b)\n",
        "print(\"\")\n",
        "a+b"
      ],
      "execution_count": null,
      "outputs": [
        {
          "output_type": "stream",
          "text": [
            "[[0 1 2]\n",
            " [3 4 5]]\n",
            "\n",
            "[[0 1 2]]\n",
            "\n"
          ],
          "name": "stdout"
        },
        {
          "output_type": "execute_result",
          "data": {
            "text/plain": [
              "array([[0, 2, 4],\n",
              "       [3, 5, 7]])"
            ]
          },
          "metadata": {
            "tags": []
          },
          "execution_count": 124
        }
      ]
    },
    {
      "cell_type": "code",
      "metadata": {
        "colab": {
          "base_uri": "https://localhost:8080/",
          "height": 270
        },
        "id": "dS3f2gSEMrkF",
        "outputId": "62ed6a0e-7916-4760-d93b-c251e33a2ab3"
      },
      "source": [
        "from IPython.display import Image, display\n",
        "display(Image(filename='/content/drive/My Drive/2021/MTech/Files/3.png', embed=True))"
      ],
      "execution_count": null,
      "outputs": [
        {
          "output_type": "display_data",
          "data": {
            "image/png": "[encoded data removed]",
            "text/plain": [
              "<IPython.core.display.Image object>"
            ]
          },
          "metadata": {
            "tags": []
          }
        }
      ]
    },
    {
      "cell_type": "code",
      "metadata": {
        "colab": {
          "base_uri": "https://localhost:8080/"
        },
        "id": "ifvIK4i0MxMV",
        "outputId": "63ddc0c7-773f-4127-d593-4f4eb3680cb7"
      },
      "source": [
        "a = np.arange(6).reshape(2,3)  #Complete the code\n",
        "print(a)\n",
        "print(\"\")\n",
        "b = np.array([0,1]).reshape(2,1) #Complete the code\n",
        "print(b)\n",
        "print(\"\")\n",
        "a+b"
      ],
      "execution_count": null,
      "outputs": [
        {
          "output_type": "stream",
          "text": [
            "[[0 1 2]\n",
            " [3 4 5]]\n",
            "\n",
            "[[0]\n",
            " [1]]\n",
            "\n"
          ],
          "name": "stdout"
        },
        {
          "output_type": "execute_result",
          "data": {
            "text/plain": [
              "array([[0, 1, 2],\n",
              "       [4, 5, 6]])"
            ]
          },
          "metadata": {
            "tags": []
          },
          "execution_count": 126
        }
      ]
    },
    {
      "cell_type": "code",
      "metadata": {
        "colab": {
          "base_uri": "https://localhost:8080/",
          "height": 268
        },
        "id": "7ux0NIcmNFD8",
        "outputId": "5083e5ed-b2c6-4270-bc73-b31b2c553e28"
      },
      "source": [
        "from IPython.display import Image, display\n",
        "display(Image(filename='/content/drive/My Drive/2021/MTech/Files/4.png', embed=True))"
      ],
      "execution_count": null,
      "outputs": [
        {
          "output_type": "display_data",
          "data": {
            "image/png": "[encoded data removed]",
            "text/plain": [
              "<IPython.core.display.Image object>"
            ]
          },
          "metadata": {
            "tags": []
          }
        }
      ]
    },
    {
      "cell_type": "code",
      "metadata": {
        "colab": {
          "base_uri": "https://localhost:8080/"
        },
        "id": "5Uh9BN_YNMzp",
        "outputId": "3ee925f9-48ac-4474-f65e-4d604f3d088d"
      },
      "source": [
        "a = np.arange(6).reshape(2,3) \n",
        "print(a)\n",
        "print(\"\")\n",
        "b = 2\n",
        "print(b)\n",
        "print(\"\")\n",
        "a+b"
      ],
      "execution_count": null,
      "outputs": [
        {
          "output_type": "stream",
          "text": [
            "[[0 1 2]\n",
            " [3 4 5]]\n",
            "\n",
            "2\n",
            "\n"
          ],
          "name": "stdout"
        },
        {
          "output_type": "execute_result",
          "data": {
            "text/plain": [
              "array([[2, 3, 4],\n",
              "       [5, 6, 7]])"
            ]
          },
          "metadata": {
            "tags": []
          },
          "execution_count": 127
        }
      ]
    },
    {
      "cell_type": "markdown",
      "metadata": {
        "id": "vJ-ZjpcyNS7o"
      },
      "source": [
        "## Lists\n",
        "A list is the Python equivalent of an array, but is resizeable and can contain elements of different types."
      ]
    },
    {
      "cell_type": "markdown",
      "metadata": {
        "id": "l43BQ5N-NWxx"
      },
      "source": [
        "### List Operation\n",
        "\n",
        "* Declaring List\n",
        "* Indentify the type\n",
        "* Print the list\n",
        "* Printing the last element\n",
        "* Accesing list elements\n",
        "* Print the the type of items present inside the list\n",
        "* Creating the copy\n",
        "* Lenght of the list\n",
        "* Adding the elements into the list\n",
        "* Addition at particular location\n",
        "* Addition of lists\n",
        "* Converting range of numbers to a list\n",
        "* Popping the elements from the list/array\n",
        "* Clearing the list\n",
        "* Deleting the list"
      ]
    },
    {
      "cell_type": "code",
      "metadata": {
        "colab": {
          "base_uri": "https://localhost:8080/"
        },
        "id": "CIWzumZpqqCa",
        "outputId": "291b20ba-e0a4-4ae5-855f-00a42b1fcf51"
      },
      "source": [
        "a = list(range(12))\n",
        "print(a)\n",
        "type(a)\n"
      ],
      "execution_count": null,
      "outputs": [
        {
          "output_type": "stream",
          "text": [
            "[0, 1, 2, 3, 4, 5, 6, 7, 8, 9, 10, 11]\n"
          ],
          "name": "stdout"
        },
        {
          "output_type": "execute_result",
          "data": {
            "text/plain": [
              "list"
            ]
          },
          "metadata": {
            "tags": []
          },
          "execution_count": 145
        }
      ]
    },
    {
      "cell_type": "code",
      "metadata": {
        "colab": {
          "base_uri": "https://localhost:8080/"
        },
        "id": "JkJI1hXbq1lb",
        "outputId": "8e90b5d2-7f5a-4206-9bce-10b5743301e4"
      },
      "source": [
        "print(a)\n",
        "a.pop()\n",
        "a.pop()\n",
        "print(a)"
      ],
      "execution_count": null,
      "outputs": [
        {
          "output_type": "stream",
          "text": [
            "[0, 1, 2, 3, 4, 5, 6, 7, 8, 9]\n",
            "[0, 1, 2, 3, 4, 5, 6, 7]\n"
          ],
          "name": "stdout"
        }
      ]
    },
    {
      "cell_type": "code",
      "metadata": {
        "colab": {
          "base_uri": "https://localhost:8080/"
        },
        "id": "i_k_uPYMrCS4",
        "outputId": "39eaaedf-6782-44d3-8307-bc7f78aea9e0"
      },
      "source": [
        "a.clear()\n",
        "print(a)"
      ],
      "execution_count": null,
      "outputs": [
        {
          "output_type": "stream",
          "text": [
            "[]\n"
          ],
          "name": "stdout"
        }
      ]
    },
    {
      "cell_type": "code",
      "metadata": {
        "colab": {
          "base_uri": "https://localhost:8080/",
          "height": 189
        },
        "id": "yKXZJo-KrH2M",
        "outputId": "cfa1bffa-1628-4fdb-9296-4c79059e47fb"
      },
      "source": [
        "del a\n",
        "print(a)"
      ],
      "execution_count": null,
      "outputs": [
        {
          "output_type": "error",
          "ename": "NameError",
          "evalue": "ignored",
          "traceback": [
            "\u001b[0;31m---------------------------------------------------------------------------\u001b[0m",
            "\u001b[0;31mNameError\u001b[0m                                 Traceback (most recent call last)",
            "\u001b[0;32m<ipython-input-150-c342333e421e>\u001b[0m in \u001b[0;36m<module>\u001b[0;34m()\u001b[0m\n\u001b[1;32m      1\u001b[0m \u001b[0;32mdel\u001b[0m \u001b[0ma\u001b[0m\u001b[0;34m\u001b[0m\u001b[0;34m\u001b[0m\u001b[0m\n\u001b[0;32m----> 2\u001b[0;31m \u001b[0mprint\u001b[0m\u001b[0;34m(\u001b[0m\u001b[0ma\u001b[0m\u001b[0;34m)\u001b[0m\u001b[0;34m\u001b[0m\u001b[0;34m\u001b[0m\u001b[0m\n\u001b[0m",
            "\u001b[0;31mNameError\u001b[0m: name 'a' is not defined"
          ]
        }
      ]
    },
    {
      "cell_type": "code",
      "metadata": {
        "colab": {
          "base_uri": "https://localhost:8080/"
        },
        "id": "Bv4a5xfrP50k",
        "outputId": "3434d101-0653-4e99-f95b-634d3e238a41"
      },
      "source": [
        "a = [1,2,3,\"NITK\",True]\n",
        "print(a)\n",
        "print(type(a))"
      ],
      "execution_count": null,
      "outputs": [
        {
          "output_type": "stream",
          "text": [
            "[1, 2, 3, 'NITK', True]\n",
            "<class 'list'>\n"
          ],
          "name": "stdout"
        }
      ]
    },
    {
      "cell_type": "code",
      "metadata": {
        "colab": {
          "base_uri": "https://localhost:8080/"
        },
        "id": "1hIqxGQLpJZw",
        "outputId": "ee39c4af-879f-477c-bd3f-a3aed188d776"
      },
      "source": [
        "print(a[-1])"
      ],
      "execution_count": null,
      "outputs": [
        {
          "output_type": "stream",
          "text": [
            "True\n"
          ],
          "name": "stdout"
        }
      ]
    },
    {
      "cell_type": "code",
      "metadata": {
        "colab": {
          "base_uri": "https://localhost:8080/"
        },
        "id": "jn-SsyESpN5s",
        "outputId": "527c31c5-dd9a-4264-de91-8b3c5d362c01"
      },
      "source": [
        "print(a[0])"
      ],
      "execution_count": null,
      "outputs": [
        {
          "output_type": "stream",
          "text": [
            "1\n"
          ],
          "name": "stdout"
        }
      ]
    },
    {
      "cell_type": "code",
      "metadata": {
        "colab": {
          "base_uri": "https://localhost:8080/"
        },
        "id": "62qtzNPApTPF",
        "outputId": "c7410dbe-2775-491d-a29b-d00075e61e7e"
      },
      "source": [
        "print(type(a[0]))"
      ],
      "execution_count": null,
      "outputs": [
        {
          "output_type": "stream",
          "text": [
            "<class 'int'>\n"
          ],
          "name": "stdout"
        }
      ]
    },
    {
      "cell_type": "code",
      "metadata": {
        "colab": {
          "base_uri": "https://localhost:8080/"
        },
        "id": "7kXLJlz_pdcy",
        "outputId": "3c9a223a-dd90-4a76-f9c1-3ef83a0603e5"
      },
      "source": [
        "print(a)\n",
        "b = a.copy()\n",
        "b"
      ],
      "execution_count": null,
      "outputs": [
        {
          "output_type": "stream",
          "text": [
            "[1, 2, 3, 'NITK', True]\n"
          ],
          "name": "stdout"
        },
        {
          "output_type": "execute_result",
          "data": {
            "text/plain": [
              "[1, 2, 3, 'NITK', True]"
            ]
          },
          "metadata": {
            "tags": []
          },
          "execution_count": 137
        }
      ]
    },
    {
      "cell_type": "code",
      "metadata": {
        "colab": {
          "base_uri": "https://localhost:8080/"
        },
        "id": "vuZ_64VbqD0A",
        "outputId": "841870be-0179-44a2-98c9-914edfb0fb17"
      },
      "source": [
        "len(b)"
      ],
      "execution_count": null,
      "outputs": [
        {
          "output_type": "execute_result",
          "data": {
            "text/plain": [
              "5"
            ]
          },
          "metadata": {
            "tags": []
          },
          "execution_count": 138
        }
      ]
    },
    {
      "cell_type": "code",
      "metadata": {
        "colab": {
          "base_uri": "https://localhost:8080/"
        },
        "id": "UAh4da5PqIjB",
        "outputId": "2a1e14bd-1979-4923-d6b9-dcaa0aaa2108"
      },
      "source": [
        "a.append(100)\n",
        "a"
      ],
      "execution_count": null,
      "outputs": [
        {
          "output_type": "execute_result",
          "data": {
            "text/plain": [
              "[1, 2, 3, 'NITK', True, 100]"
            ]
          },
          "metadata": {
            "tags": []
          },
          "execution_count": 139
        }
      ]
    },
    {
      "cell_type": "code",
      "metadata": {
        "colab": {
          "base_uri": "https://localhost:8080/"
        },
        "id": "tz9mCuGFqS2j",
        "outputId": "afa6ec6b-5ee5-4160-b852-dbb34e29bc47"
      },
      "source": [
        "a.insert(3,85)\n",
        "a"
      ],
      "execution_count": null,
      "outputs": [
        {
          "output_type": "execute_result",
          "data": {
            "text/plain": [
              "[85, 1, 2, 85, 3, 'NITK', True, 100]"
            ]
          },
          "metadata": {
            "tags": []
          },
          "execution_count": 141
        }
      ]
    },
    {
      "cell_type": "code",
      "metadata": {
        "colab": {
          "base_uri": "https://localhost:8080/"
        },
        "id": "sf0tynr9qiiz",
        "outputId": "241769e4-1e3a-41e7-94b1-936f8b3f8794"
      },
      "source": [
        "a+b"
      ],
      "execution_count": null,
      "outputs": [
        {
          "output_type": "execute_result",
          "data": {
            "text/plain": [
              "[85, 1, 2, 85, 3, 'NITK', True, 100, 1, 2, 3, 'NITK', True]"
            ]
          },
          "metadata": {
            "tags": []
          },
          "execution_count": 142
        }
      ]
    },
    {
      "cell_type": "markdown",
      "metadata": {
        "id": "Q-qaPyeiU0L9"
      },
      "source": [
        "### Tuple Operation\n",
        "* Declare and print the type of tuple\n",
        "* Initial element\n",
        "* Final Element\n",
        "* Length of tuple\n",
        "* Delete Tuples"
      ]
    },
    {
      "cell_type": "code",
      "metadata": {
        "colab": {
          "base_uri": "https://localhost:8080/"
        },
        "id": "T-6YAhHkU31E",
        "outputId": "a518f666-d2c6-41fb-85a2-9c8aeaecfc30"
      },
      "source": [
        "a = (1,3,0)\n",
        "print(a)\n",
        "print(type(a))"
      ],
      "execution_count": null,
      "outputs": [
        {
          "output_type": "stream",
          "text": [
            "(1, 3, 0)\n",
            "<class 'tuple'>\n"
          ],
          "name": "stdout"
        }
      ]
    },
    {
      "cell_type": "markdown",
      "metadata": {
        "id": "G51owLM5VS5I"
      },
      "source": [
        "### [Difference between list and tuples]( https://stackabuse.com/lists-vs-tuples-in-python/#:~:text=We%20can%20conclude%20that%20although,tuple%20has%20a%20fixed%20size.)\n",
        "\n",
        "* The main difference between lists and a tuples is the fact that lists are mutable whereas tuples are immutable.\n",
        "* A mutable data type means that a python object of this type can be modified.\n",
        "* Immutable data type means that a python object of this type can't be modified.\n",
        "* Operations on non mutable type is faster when compared with mutable type."
      ]
    },
    {
      "cell_type": "markdown",
      "metadata": {
        "id": "NOewPgmeWDTl"
      },
      "source": [
        "# Sets \n",
        "A set is an unordered collection of distinct elements.\n",
        "\n",
        "* Check the elements in sets\n",
        "* Length of sets\n",
        "* Add elements to sets\n",
        "* Remove the elements from sets\n",
        "* Delete"
      ]
    },
    {
      "cell_type": "code",
      "metadata": {
        "id": "5BiVIFJ_WMR8",
        "colab": {
          "base_uri": "https://localhost:8080/",
          "height": 298
        },
        "outputId": "77b64b25-f27d-4ecb-ca10-8d50447de45f"
      },
      "source": [
        "a = {\"1\",\"2\",\"3\"}\n",
        "print(a)\n",
        "print(type(a))\n",
        "print(len(a))\n",
        "a.add(\"4\")\n",
        "print(a)\n",
        "a.remove(\"4\")\n",
        "print(a)\n",
        "del a\n",
        "a"
      ],
      "execution_count": null,
      "outputs": [
        {
          "output_type": "stream",
          "text": [
            "{'2', '1', '3'}\n",
            "<class 'set'>\n",
            "3\n",
            "{'4', '2', '1', '3'}\n",
            "{'2', '1', '3'}\n"
          ],
          "name": "stdout"
        },
        {
          "output_type": "error",
          "ename": "NameError",
          "evalue": "ignored",
          "traceback": [
            "\u001b[0;31m---------------------------------------------------------------------------\u001b[0m",
            "\u001b[0;31mNameError\u001b[0m                                 Traceback (most recent call last)",
            "\u001b[0;32m<ipython-input-15-ea72a1b5045a>\u001b[0m in \u001b[0;36m<module>\u001b[0;34m()\u001b[0m\n\u001b[1;32m      8\u001b[0m \u001b[0mprint\u001b[0m\u001b[0;34m(\u001b[0m\u001b[0ma\u001b[0m\u001b[0;34m)\u001b[0m\u001b[0;34m\u001b[0m\u001b[0;34m\u001b[0m\u001b[0m\n\u001b[1;32m      9\u001b[0m \u001b[0;32mdel\u001b[0m \u001b[0ma\u001b[0m\u001b[0;34m\u001b[0m\u001b[0;34m\u001b[0m\u001b[0m\n\u001b[0;32m---> 10\u001b[0;31m \u001b[0ma\u001b[0m\u001b[0;34m\u001b[0m\u001b[0;34m\u001b[0m\u001b[0m\n\u001b[0m",
            "\u001b[0;31mNameError\u001b[0m: name 'a' is not defined"
          ]
        }
      ]
    },
    {
      "cell_type": "markdown",
      "metadata": {
        "id": "Qwkw_NJ4Yx4l"
      },
      "source": [
        "### Set Operation\n",
        "* Union\n",
        "* Intersection\n",
        "* Difference"
      ]
    },
    {
      "cell_type": "code",
      "metadata": {
        "id": "JHnpbIUeYznd",
        "colab": {
          "base_uri": "https://localhost:8080/"
        },
        "outputId": "dae189b4-9c61-4c94-fb03-fe8d03759ee9"
      },
      "source": [
        "a = {1,2,3,4}\n",
        "b = {5,6,3,8}\n",
        "print(a)\n",
        "print(b)\n",
        "\n",
        "\n",
        "\n",
        "print(a|b)\n",
        "print(a&b)\n",
        "print(a-b)\n",
        "print(b-a)"
      ],
      "execution_count": null,
      "outputs": [
        {
          "output_type": "stream",
          "text": [
            "{1, 2, 3, 4}\n",
            "{8, 3, 5, 6}\n",
            "{1, 2, 3, 4, 5, 6, 8}\n",
            "{3}\n",
            "{1, 2, 4}\n",
            "{8, 5, 6}\n"
          ],
          "name": "stdout"
        }
      ]
    },
    {
      "cell_type": "markdown",
      "metadata": {
        "id": "SctM2RPwZsar"
      },
      "source": [
        "# Dictionaries\n",
        "A dictionary stores (key, value) pairs, similar to a Map in Java or an object in Javascript.\n",
        "### Dictionary Operations\n",
        "* Create dictionary\n",
        "* Checking the presence of elements in dictionary\n",
        "* Print Keys and Values\n",
        "* Print length of dictionary\n",
        "* Getting the keys/values from the dictionary\n",
        "* Updating the element in dictionary"
      ]
    },
    {
      "cell_type": "code",
      "metadata": {
        "colab": {
          "base_uri": "https://localhost:8080/"
        },
        "id": "K7GqCU7rZ2hx",
        "outputId": "acfef775-9edd-4a9b-e2f7-496549a9e783"
      },
      "source": [
        "a = {\"a\":1, \"b\":2, \"c\":3}\n",
        "print(a)\n",
        "print(type(a))\n",
        "print(len(a))\n",
        "print(a.keys())\n",
        "print(a.values())"
      ],
      "execution_count": null,
      "outputs": [
        {
          "output_type": "stream",
          "text": [
            "{'a': 1, 'b': 2, 'c': 3}\n",
            "<class 'dict'>\n",
            "3\n",
            "dict_keys(['a', 'b', 'c'])\n",
            "dict_values([1, 2, 3])\n"
          ],
          "name": "stdout"
        }
      ]
    },
    {
      "cell_type": "code",
      "metadata": {
        "colab": {
          "base_uri": "https://localhost:8080/"
        },
        "id": "CgsG27JRaAZk",
        "outputId": "2e89fdca-8ed2-45a5-97de-fc520b2164db"
      },
      "source": [
        "a.update({\"d\":4})\n",
        "print(a)"
      ],
      "execution_count": null,
      "outputs": [
        {
          "output_type": "stream",
          "text": [
            "{'a': 1, 'b': 2, 'c': 3, 'd': 4}\n"
          ],
          "name": "stdout"
        }
      ]
    }
  ]
}